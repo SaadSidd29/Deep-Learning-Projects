{
  "nbformat": 4,
  "nbformat_minor": 0,
  "metadata": {
    "colab": {
      "name": "Copy of Untitled71.ipynb",
      "provenance": [],
      "include_colab_link": true
    },
    "kernelspec": {
      "name": "python3",
      "display_name": "Python 3"
    },
    "language_info": {
      "name": "python"
    },
    "accelerator": "GPU"
  },
  "cells": [
    {
      "cell_type": "markdown",
      "metadata": {
        "id": "view-in-github",
        "colab_type": "text"
      },
      "source": [
        "<a href=\"https://colab.research.google.com/github/SaadSidd29/Deep-Learning-Projects/blob/main/Churn_modelling_analysis.ipynb\" target=\"_parent\"><img src=\"https://colab.research.google.com/assets/colab-badge.svg\" alt=\"Open In Colab\"/></a>"
      ]
    },
    {
      "cell_type": "code",
      "source": [
        "import tensorflow as tf\n",
        "print(tf.__version__)"
      ],
      "metadata": {
        "colab": {
          "base_uri": "https://localhost:8080/"
        },
        "id": "hz074ZOEcgmA",
        "outputId": "42d76445-1d8d-4a45-ee8d-42623061750e"
      },
      "execution_count": 1,
      "outputs": [
        {
          "output_type": "stream",
          "name": "stdout",
          "text": [
            "2.8.2\n"
          ]
        }
      ]
    },
    {
      "cell_type": "code",
      "source": [
        "## import some basics libraries\n",
        "import numpy as np\n",
        "import matplotlib.pyplot as plt\n",
        "import pandas as pd"
      ],
      "metadata": {
        "id": "lFHVbl1bc0HU"
      },
      "execution_count": 2,
      "outputs": []
    },
    {
      "cell_type": "code",
      "source": [
        "dataset=pd.read_csv('Churn_Modelling.csv')\n",
        "dataset.head()"
      ],
      "metadata": {
        "colab": {
          "base_uri": "https://localhost:8080/",
          "height": 206
        },
        "id": "ipJkWThcdB5-",
        "outputId": "819e28fa-ccd9-41bb-c8e2-92a5de04fe75"
      },
      "execution_count": 4,
      "outputs": [
        {
          "output_type": "execute_result",
          "data": {
            "text/plain": [
              "   RowNumber  CustomerId   Surname  CreditScore Geography  Gender  Age  \\\n",
              "0          1    15634602  Hargrave          619    France  Female   42   \n",
              "1          2    15647311      Hill          608     Spain  Female   41   \n",
              "2          3    15619304      Onio          502    France  Female   42   \n",
              "3          4    15701354      Boni          699    France  Female   39   \n",
              "4          5    15737888  Mitchell          850     Spain  Female   43   \n",
              "\n",
              "   Tenure    Balance  NumOfProducts  HasCrCard  IsActiveMember  \\\n",
              "0       2       0.00              1          1               1   \n",
              "1       1   83807.86              1          0               1   \n",
              "2       8  159660.80              3          1               0   \n",
              "3       1       0.00              2          0               0   \n",
              "4       2  125510.82              1          1               1   \n",
              "\n",
              "   EstimatedSalary  Exited  \n",
              "0        101348.88       1  \n",
              "1        112542.58       0  \n",
              "2        113931.57       1  \n",
              "3         93826.63       0  \n",
              "4         79084.10       0  "
            ],
            "text/html": [
              "\n",
              "  <div id=\"df-27dd406e-8e78-49a1-9959-ad04de4d6ec4\">\n",
              "    <div class=\"colab-df-container\">\n",
              "      <div>\n",
              "<style scoped>\n",
              "    .dataframe tbody tr th:only-of-type {\n",
              "        vertical-align: middle;\n",
              "    }\n",
              "\n",
              "    .dataframe tbody tr th {\n",
              "        vertical-align: top;\n",
              "    }\n",
              "\n",
              "    .dataframe thead th {\n",
              "        text-align: right;\n",
              "    }\n",
              "</style>\n",
              "<table border=\"1\" class=\"dataframe\">\n",
              "  <thead>\n",
              "    <tr style=\"text-align: right;\">\n",
              "      <th></th>\n",
              "      <th>RowNumber</th>\n",
              "      <th>CustomerId</th>\n",
              "      <th>Surname</th>\n",
              "      <th>CreditScore</th>\n",
              "      <th>Geography</th>\n",
              "      <th>Gender</th>\n",
              "      <th>Age</th>\n",
              "      <th>Tenure</th>\n",
              "      <th>Balance</th>\n",
              "      <th>NumOfProducts</th>\n",
              "      <th>HasCrCard</th>\n",
              "      <th>IsActiveMember</th>\n",
              "      <th>EstimatedSalary</th>\n",
              "      <th>Exited</th>\n",
              "    </tr>\n",
              "  </thead>\n",
              "  <tbody>\n",
              "    <tr>\n",
              "      <th>0</th>\n",
              "      <td>1</td>\n",
              "      <td>15634602</td>\n",
              "      <td>Hargrave</td>\n",
              "      <td>619</td>\n",
              "      <td>France</td>\n",
              "      <td>Female</td>\n",
              "      <td>42</td>\n",
              "      <td>2</td>\n",
              "      <td>0.00</td>\n",
              "      <td>1</td>\n",
              "      <td>1</td>\n",
              "      <td>1</td>\n",
              "      <td>101348.88</td>\n",
              "      <td>1</td>\n",
              "    </tr>\n",
              "    <tr>\n",
              "      <th>1</th>\n",
              "      <td>2</td>\n",
              "      <td>15647311</td>\n",
              "      <td>Hill</td>\n",
              "      <td>608</td>\n",
              "      <td>Spain</td>\n",
              "      <td>Female</td>\n",
              "      <td>41</td>\n",
              "      <td>1</td>\n",
              "      <td>83807.86</td>\n",
              "      <td>1</td>\n",
              "      <td>0</td>\n",
              "      <td>1</td>\n",
              "      <td>112542.58</td>\n",
              "      <td>0</td>\n",
              "    </tr>\n",
              "    <tr>\n",
              "      <th>2</th>\n",
              "      <td>3</td>\n",
              "      <td>15619304</td>\n",
              "      <td>Onio</td>\n",
              "      <td>502</td>\n",
              "      <td>France</td>\n",
              "      <td>Female</td>\n",
              "      <td>42</td>\n",
              "      <td>8</td>\n",
              "      <td>159660.80</td>\n",
              "      <td>3</td>\n",
              "      <td>1</td>\n",
              "      <td>0</td>\n",
              "      <td>113931.57</td>\n",
              "      <td>1</td>\n",
              "    </tr>\n",
              "    <tr>\n",
              "      <th>3</th>\n",
              "      <td>4</td>\n",
              "      <td>15701354</td>\n",
              "      <td>Boni</td>\n",
              "      <td>699</td>\n",
              "      <td>France</td>\n",
              "      <td>Female</td>\n",
              "      <td>39</td>\n",
              "      <td>1</td>\n",
              "      <td>0.00</td>\n",
              "      <td>2</td>\n",
              "      <td>0</td>\n",
              "      <td>0</td>\n",
              "      <td>93826.63</td>\n",
              "      <td>0</td>\n",
              "    </tr>\n",
              "    <tr>\n",
              "      <th>4</th>\n",
              "      <td>5</td>\n",
              "      <td>15737888</td>\n",
              "      <td>Mitchell</td>\n",
              "      <td>850</td>\n",
              "      <td>Spain</td>\n",
              "      <td>Female</td>\n",
              "      <td>43</td>\n",
              "      <td>2</td>\n",
              "      <td>125510.82</td>\n",
              "      <td>1</td>\n",
              "      <td>1</td>\n",
              "      <td>1</td>\n",
              "      <td>79084.10</td>\n",
              "      <td>0</td>\n",
              "    </tr>\n",
              "  </tbody>\n",
              "</table>\n",
              "</div>\n",
              "      <button class=\"colab-df-convert\" onclick=\"convertToInteractive('df-27dd406e-8e78-49a1-9959-ad04de4d6ec4')\"\n",
              "              title=\"Convert this dataframe to an interactive table.\"\n",
              "              style=\"display:none;\">\n",
              "        \n",
              "  <svg xmlns=\"http://www.w3.org/2000/svg\" height=\"24px\"viewBox=\"0 0 24 24\"\n",
              "       width=\"24px\">\n",
              "    <path d=\"M0 0h24v24H0V0z\" fill=\"none\"/>\n",
              "    <path d=\"M18.56 5.44l.94 2.06.94-2.06 2.06-.94-2.06-.94-.94-2.06-.94 2.06-2.06.94zm-11 1L8.5 8.5l.94-2.06 2.06-.94-2.06-.94L8.5 2.5l-.94 2.06-2.06.94zm10 10l.94 2.06.94-2.06 2.06-.94-2.06-.94-.94-2.06-.94 2.06-2.06.94z\"/><path d=\"M17.41 7.96l-1.37-1.37c-.4-.4-.92-.59-1.43-.59-.52 0-1.04.2-1.43.59L10.3 9.45l-7.72 7.72c-.78.78-.78 2.05 0 2.83L4 21.41c.39.39.9.59 1.41.59.51 0 1.02-.2 1.41-.59l7.78-7.78 2.81-2.81c.8-.78.8-2.07 0-2.86zM5.41 20L4 18.59l7.72-7.72 1.47 1.35L5.41 20z\"/>\n",
              "  </svg>\n",
              "      </button>\n",
              "      \n",
              "  <style>\n",
              "    .colab-df-container {\n",
              "      display:flex;\n",
              "      flex-wrap:wrap;\n",
              "      gap: 12px;\n",
              "    }\n",
              "\n",
              "    .colab-df-convert {\n",
              "      background-color: #E8F0FE;\n",
              "      border: none;\n",
              "      border-radius: 50%;\n",
              "      cursor: pointer;\n",
              "      display: none;\n",
              "      fill: #1967D2;\n",
              "      height: 32px;\n",
              "      padding: 0 0 0 0;\n",
              "      width: 32px;\n",
              "    }\n",
              "\n",
              "    .colab-df-convert:hover {\n",
              "      background-color: #E2EBFA;\n",
              "      box-shadow: 0px 1px 2px rgba(60, 64, 67, 0.3), 0px 1px 3px 1px rgba(60, 64, 67, 0.15);\n",
              "      fill: #174EA6;\n",
              "    }\n",
              "\n",
              "    [theme=dark] .colab-df-convert {\n",
              "      background-color: #3B4455;\n",
              "      fill: #D2E3FC;\n",
              "    }\n",
              "\n",
              "    [theme=dark] .colab-df-convert:hover {\n",
              "      background-color: #434B5C;\n",
              "      box-shadow: 0px 1px 3px 1px rgba(0, 0, 0, 0.15);\n",
              "      filter: drop-shadow(0px 1px 2px rgba(0, 0, 0, 0.3));\n",
              "      fill: #FFFFFF;\n",
              "    }\n",
              "  </style>\n",
              "\n",
              "      <script>\n",
              "        const buttonEl =\n",
              "          document.querySelector('#df-27dd406e-8e78-49a1-9959-ad04de4d6ec4 button.colab-df-convert');\n",
              "        buttonEl.style.display =\n",
              "          google.colab.kernel.accessAllowed ? 'block' : 'none';\n",
              "\n",
              "        async function convertToInteractive(key) {\n",
              "          const element = document.querySelector('#df-27dd406e-8e78-49a1-9959-ad04de4d6ec4');\n",
              "          const dataTable =\n",
              "            await google.colab.kernel.invokeFunction('convertToInteractive',\n",
              "                                                     [key], {});\n",
              "          if (!dataTable) return;\n",
              "\n",
              "          const docLinkHtml = 'Like what you see? Visit the ' +\n",
              "            '<a target=\"_blank\" href=https://colab.research.google.com/notebooks/data_table.ipynb>data table notebook</a>'\n",
              "            + ' to learn more about interactive tables.';\n",
              "          element.innerHTML = '';\n",
              "          dataTable['output_type'] = 'display_data';\n",
              "          await google.colab.output.renderOutput(dataTable, element);\n",
              "          const docLink = document.createElement('div');\n",
              "          docLink.innerHTML = docLinkHtml;\n",
              "          element.appendChild(docLink);\n",
              "        }\n",
              "      </script>\n",
              "    </div>\n",
              "  </div>\n",
              "  "
            ]
          },
          "metadata": {},
          "execution_count": 4
        }
      ]
    },
    {
      "cell_type": "code",
      "source": [
        "## Divide the dataset into independent and dependent features\n",
        "\n",
        "X=dataset.iloc[:,3:13]\n",
        "y=dataset.iloc[:,13]"
      ],
      "metadata": {
        "id": "YrqEbrv1dK6d"
      },
      "execution_count": 6,
      "outputs": []
    },
    {
      "cell_type": "code",
      "source": [
        "X.head()"
      ],
      "metadata": {
        "colab": {
          "base_uri": "https://localhost:8080/",
          "height": 206
        },
        "id": "i_X-xjWWd5CY",
        "outputId": "85d068ba-235c-45bd-accd-ab69f4db8e8e"
      },
      "execution_count": 7,
      "outputs": [
        {
          "output_type": "execute_result",
          "data": {
            "text/plain": [
              "   CreditScore Geography  Gender  Age  Tenure    Balance  NumOfProducts  \\\n",
              "0          619    France  Female   42       2       0.00              1   \n",
              "1          608     Spain  Female   41       1   83807.86              1   \n",
              "2          502    France  Female   42       8  159660.80              3   \n",
              "3          699    France  Female   39       1       0.00              2   \n",
              "4          850     Spain  Female   43       2  125510.82              1   \n",
              "\n",
              "   HasCrCard  IsActiveMember  EstimatedSalary  \n",
              "0          1               1        101348.88  \n",
              "1          0               1        112542.58  \n",
              "2          1               0        113931.57  \n",
              "3          0               0         93826.63  \n",
              "4          1               1         79084.10  "
            ],
            "text/html": [
              "\n",
              "  <div id=\"df-b326de37-6ed8-4f29-9ebf-b8d8543f943a\">\n",
              "    <div class=\"colab-df-container\">\n",
              "      <div>\n",
              "<style scoped>\n",
              "    .dataframe tbody tr th:only-of-type {\n",
              "        vertical-align: middle;\n",
              "    }\n",
              "\n",
              "    .dataframe tbody tr th {\n",
              "        vertical-align: top;\n",
              "    }\n",
              "\n",
              "    .dataframe thead th {\n",
              "        text-align: right;\n",
              "    }\n",
              "</style>\n",
              "<table border=\"1\" class=\"dataframe\">\n",
              "  <thead>\n",
              "    <tr style=\"text-align: right;\">\n",
              "      <th></th>\n",
              "      <th>CreditScore</th>\n",
              "      <th>Geography</th>\n",
              "      <th>Gender</th>\n",
              "      <th>Age</th>\n",
              "      <th>Tenure</th>\n",
              "      <th>Balance</th>\n",
              "      <th>NumOfProducts</th>\n",
              "      <th>HasCrCard</th>\n",
              "      <th>IsActiveMember</th>\n",
              "      <th>EstimatedSalary</th>\n",
              "    </tr>\n",
              "  </thead>\n",
              "  <tbody>\n",
              "    <tr>\n",
              "      <th>0</th>\n",
              "      <td>619</td>\n",
              "      <td>France</td>\n",
              "      <td>Female</td>\n",
              "      <td>42</td>\n",
              "      <td>2</td>\n",
              "      <td>0.00</td>\n",
              "      <td>1</td>\n",
              "      <td>1</td>\n",
              "      <td>1</td>\n",
              "      <td>101348.88</td>\n",
              "    </tr>\n",
              "    <tr>\n",
              "      <th>1</th>\n",
              "      <td>608</td>\n",
              "      <td>Spain</td>\n",
              "      <td>Female</td>\n",
              "      <td>41</td>\n",
              "      <td>1</td>\n",
              "      <td>83807.86</td>\n",
              "      <td>1</td>\n",
              "      <td>0</td>\n",
              "      <td>1</td>\n",
              "      <td>112542.58</td>\n",
              "    </tr>\n",
              "    <tr>\n",
              "      <th>2</th>\n",
              "      <td>502</td>\n",
              "      <td>France</td>\n",
              "      <td>Female</td>\n",
              "      <td>42</td>\n",
              "      <td>8</td>\n",
              "      <td>159660.80</td>\n",
              "      <td>3</td>\n",
              "      <td>1</td>\n",
              "      <td>0</td>\n",
              "      <td>113931.57</td>\n",
              "    </tr>\n",
              "    <tr>\n",
              "      <th>3</th>\n",
              "      <td>699</td>\n",
              "      <td>France</td>\n",
              "      <td>Female</td>\n",
              "      <td>39</td>\n",
              "      <td>1</td>\n",
              "      <td>0.00</td>\n",
              "      <td>2</td>\n",
              "      <td>0</td>\n",
              "      <td>0</td>\n",
              "      <td>93826.63</td>\n",
              "    </tr>\n",
              "    <tr>\n",
              "      <th>4</th>\n",
              "      <td>850</td>\n",
              "      <td>Spain</td>\n",
              "      <td>Female</td>\n",
              "      <td>43</td>\n",
              "      <td>2</td>\n",
              "      <td>125510.82</td>\n",
              "      <td>1</td>\n",
              "      <td>1</td>\n",
              "      <td>1</td>\n",
              "      <td>79084.10</td>\n",
              "    </tr>\n",
              "  </tbody>\n",
              "</table>\n",
              "</div>\n",
              "      <button class=\"colab-df-convert\" onclick=\"convertToInteractive('df-b326de37-6ed8-4f29-9ebf-b8d8543f943a')\"\n",
              "              title=\"Convert this dataframe to an interactive table.\"\n",
              "              style=\"display:none;\">\n",
              "        \n",
              "  <svg xmlns=\"http://www.w3.org/2000/svg\" height=\"24px\"viewBox=\"0 0 24 24\"\n",
              "       width=\"24px\">\n",
              "    <path d=\"M0 0h24v24H0V0z\" fill=\"none\"/>\n",
              "    <path d=\"M18.56 5.44l.94 2.06.94-2.06 2.06-.94-2.06-.94-.94-2.06-.94 2.06-2.06.94zm-11 1L8.5 8.5l.94-2.06 2.06-.94-2.06-.94L8.5 2.5l-.94 2.06-2.06.94zm10 10l.94 2.06.94-2.06 2.06-.94-2.06-.94-.94-2.06-.94 2.06-2.06.94z\"/><path d=\"M17.41 7.96l-1.37-1.37c-.4-.4-.92-.59-1.43-.59-.52 0-1.04.2-1.43.59L10.3 9.45l-7.72 7.72c-.78.78-.78 2.05 0 2.83L4 21.41c.39.39.9.59 1.41.59.51 0 1.02-.2 1.41-.59l7.78-7.78 2.81-2.81c.8-.78.8-2.07 0-2.86zM5.41 20L4 18.59l7.72-7.72 1.47 1.35L5.41 20z\"/>\n",
              "  </svg>\n",
              "      </button>\n",
              "      \n",
              "  <style>\n",
              "    .colab-df-container {\n",
              "      display:flex;\n",
              "      flex-wrap:wrap;\n",
              "      gap: 12px;\n",
              "    }\n",
              "\n",
              "    .colab-df-convert {\n",
              "      background-color: #E8F0FE;\n",
              "      border: none;\n",
              "      border-radius: 50%;\n",
              "      cursor: pointer;\n",
              "      display: none;\n",
              "      fill: #1967D2;\n",
              "      height: 32px;\n",
              "      padding: 0 0 0 0;\n",
              "      width: 32px;\n",
              "    }\n",
              "\n",
              "    .colab-df-convert:hover {\n",
              "      background-color: #E2EBFA;\n",
              "      box-shadow: 0px 1px 2px rgba(60, 64, 67, 0.3), 0px 1px 3px 1px rgba(60, 64, 67, 0.15);\n",
              "      fill: #174EA6;\n",
              "    }\n",
              "\n",
              "    [theme=dark] .colab-df-convert {\n",
              "      background-color: #3B4455;\n",
              "      fill: #D2E3FC;\n",
              "    }\n",
              "\n",
              "    [theme=dark] .colab-df-convert:hover {\n",
              "      background-color: #434B5C;\n",
              "      box-shadow: 0px 1px 3px 1px rgba(0, 0, 0, 0.15);\n",
              "      filter: drop-shadow(0px 1px 2px rgba(0, 0, 0, 0.3));\n",
              "      fill: #FFFFFF;\n",
              "    }\n",
              "  </style>\n",
              "\n",
              "      <script>\n",
              "        const buttonEl =\n",
              "          document.querySelector('#df-b326de37-6ed8-4f29-9ebf-b8d8543f943a button.colab-df-convert');\n",
              "        buttonEl.style.display =\n",
              "          google.colab.kernel.accessAllowed ? 'block' : 'none';\n",
              "\n",
              "        async function convertToInteractive(key) {\n",
              "          const element = document.querySelector('#df-b326de37-6ed8-4f29-9ebf-b8d8543f943a');\n",
              "          const dataTable =\n",
              "            await google.colab.kernel.invokeFunction('convertToInteractive',\n",
              "                                                     [key], {});\n",
              "          if (!dataTable) return;\n",
              "\n",
              "          const docLinkHtml = 'Like what you see? Visit the ' +\n",
              "            '<a target=\"_blank\" href=https://colab.research.google.com/notebooks/data_table.ipynb>data table notebook</a>'\n",
              "            + ' to learn more about interactive tables.';\n",
              "          element.innerHTML = '';\n",
              "          dataTable['output_type'] = 'display_data';\n",
              "          await google.colab.output.renderOutput(dataTable, element);\n",
              "          const docLink = document.createElement('div');\n",
              "          docLink.innerHTML = docLinkHtml;\n",
              "          element.appendChild(docLink);\n",
              "        }\n",
              "      </script>\n",
              "    </div>\n",
              "  </div>\n",
              "  "
            ]
          },
          "metadata": {},
          "execution_count": 7
        }
      ]
    },
    {
      "cell_type": "code",
      "source": [
        "y"
      ],
      "metadata": {
        "colab": {
          "base_uri": "https://localhost:8080/"
        },
        "id": "W7AwCePJd8DB",
        "outputId": "472842e8-38ae-467a-bf17-6d3e6faf7875"
      },
      "execution_count": 8,
      "outputs": [
        {
          "output_type": "execute_result",
          "data": {
            "text/plain": [
              "0       1\n",
              "1       0\n",
              "2       1\n",
              "3       0\n",
              "4       0\n",
              "       ..\n",
              "9995    0\n",
              "9996    0\n",
              "9997    1\n",
              "9998    1\n",
              "9999    0\n",
              "Name: Exited, Length: 10000, dtype: int64"
            ]
          },
          "metadata": {},
          "execution_count": 8
        }
      ]
    },
    {
      "cell_type": "code",
      "source": [
        "## Ferature Engineering \n",
        "geography=pd.get_dummies(X['Geography'],drop_first=True)\n",
        "gender=pd.get_dummies(X['Gender'],drop_first=True)"
      ],
      "metadata": {
        "id": "8Ky3VFa3d-oM"
      },
      "execution_count": 9,
      "outputs": []
    },
    {
      "cell_type": "code",
      "source": [
        "## concatenate these variables with dataframe\n",
        "X=X.drop(['Geography','Gender'],axis=1)"
      ],
      "metadata": {
        "id": "jdVZ5g7leWTo"
      },
      "execution_count": 10,
      "outputs": []
    },
    {
      "cell_type": "code",
      "source": [
        "X.head()"
      ],
      "metadata": {
        "colab": {
          "base_uri": "https://localhost:8080/",
          "height": 206
        },
        "id": "vyUIsoBwfA32",
        "outputId": "82b5c027-0866-4206-abba-8cc98e8a6c8b"
      },
      "execution_count": 11,
      "outputs": [
        {
          "output_type": "execute_result",
          "data": {
            "text/plain": [
              "   CreditScore  Age  Tenure    Balance  NumOfProducts  HasCrCard  \\\n",
              "0          619   42       2       0.00              1          1   \n",
              "1          608   41       1   83807.86              1          0   \n",
              "2          502   42       8  159660.80              3          1   \n",
              "3          699   39       1       0.00              2          0   \n",
              "4          850   43       2  125510.82              1          1   \n",
              "\n",
              "   IsActiveMember  EstimatedSalary  \n",
              "0               1        101348.88  \n",
              "1               1        112542.58  \n",
              "2               0        113931.57  \n",
              "3               0         93826.63  \n",
              "4               1         79084.10  "
            ],
            "text/html": [
              "\n",
              "  <div id=\"df-4cf2320c-a819-43eb-9e25-9c85f4ddaf11\">\n",
              "    <div class=\"colab-df-container\">\n",
              "      <div>\n",
              "<style scoped>\n",
              "    .dataframe tbody tr th:only-of-type {\n",
              "        vertical-align: middle;\n",
              "    }\n",
              "\n",
              "    .dataframe tbody tr th {\n",
              "        vertical-align: top;\n",
              "    }\n",
              "\n",
              "    .dataframe thead th {\n",
              "        text-align: right;\n",
              "    }\n",
              "</style>\n",
              "<table border=\"1\" class=\"dataframe\">\n",
              "  <thead>\n",
              "    <tr style=\"text-align: right;\">\n",
              "      <th></th>\n",
              "      <th>CreditScore</th>\n",
              "      <th>Age</th>\n",
              "      <th>Tenure</th>\n",
              "      <th>Balance</th>\n",
              "      <th>NumOfProducts</th>\n",
              "      <th>HasCrCard</th>\n",
              "      <th>IsActiveMember</th>\n",
              "      <th>EstimatedSalary</th>\n",
              "    </tr>\n",
              "  </thead>\n",
              "  <tbody>\n",
              "    <tr>\n",
              "      <th>0</th>\n",
              "      <td>619</td>\n",
              "      <td>42</td>\n",
              "      <td>2</td>\n",
              "      <td>0.00</td>\n",
              "      <td>1</td>\n",
              "      <td>1</td>\n",
              "      <td>1</td>\n",
              "      <td>101348.88</td>\n",
              "    </tr>\n",
              "    <tr>\n",
              "      <th>1</th>\n",
              "      <td>608</td>\n",
              "      <td>41</td>\n",
              "      <td>1</td>\n",
              "      <td>83807.86</td>\n",
              "      <td>1</td>\n",
              "      <td>0</td>\n",
              "      <td>1</td>\n",
              "      <td>112542.58</td>\n",
              "    </tr>\n",
              "    <tr>\n",
              "      <th>2</th>\n",
              "      <td>502</td>\n",
              "      <td>42</td>\n",
              "      <td>8</td>\n",
              "      <td>159660.80</td>\n",
              "      <td>3</td>\n",
              "      <td>1</td>\n",
              "      <td>0</td>\n",
              "      <td>113931.57</td>\n",
              "    </tr>\n",
              "    <tr>\n",
              "      <th>3</th>\n",
              "      <td>699</td>\n",
              "      <td>39</td>\n",
              "      <td>1</td>\n",
              "      <td>0.00</td>\n",
              "      <td>2</td>\n",
              "      <td>0</td>\n",
              "      <td>0</td>\n",
              "      <td>93826.63</td>\n",
              "    </tr>\n",
              "    <tr>\n",
              "      <th>4</th>\n",
              "      <td>850</td>\n",
              "      <td>43</td>\n",
              "      <td>2</td>\n",
              "      <td>125510.82</td>\n",
              "      <td>1</td>\n",
              "      <td>1</td>\n",
              "      <td>1</td>\n",
              "      <td>79084.10</td>\n",
              "    </tr>\n",
              "  </tbody>\n",
              "</table>\n",
              "</div>\n",
              "      <button class=\"colab-df-convert\" onclick=\"convertToInteractive('df-4cf2320c-a819-43eb-9e25-9c85f4ddaf11')\"\n",
              "              title=\"Convert this dataframe to an interactive table.\"\n",
              "              style=\"display:none;\">\n",
              "        \n",
              "  <svg xmlns=\"http://www.w3.org/2000/svg\" height=\"24px\"viewBox=\"0 0 24 24\"\n",
              "       width=\"24px\">\n",
              "    <path d=\"M0 0h24v24H0V0z\" fill=\"none\"/>\n",
              "    <path d=\"M18.56 5.44l.94 2.06.94-2.06 2.06-.94-2.06-.94-.94-2.06-.94 2.06-2.06.94zm-11 1L8.5 8.5l.94-2.06 2.06-.94-2.06-.94L8.5 2.5l-.94 2.06-2.06.94zm10 10l.94 2.06.94-2.06 2.06-.94-2.06-.94-.94-2.06-.94 2.06-2.06.94z\"/><path d=\"M17.41 7.96l-1.37-1.37c-.4-.4-.92-.59-1.43-.59-.52 0-1.04.2-1.43.59L10.3 9.45l-7.72 7.72c-.78.78-.78 2.05 0 2.83L4 21.41c.39.39.9.59 1.41.59.51 0 1.02-.2 1.41-.59l7.78-7.78 2.81-2.81c.8-.78.8-2.07 0-2.86zM5.41 20L4 18.59l7.72-7.72 1.47 1.35L5.41 20z\"/>\n",
              "  </svg>\n",
              "      </button>\n",
              "      \n",
              "  <style>\n",
              "    .colab-df-container {\n",
              "      display:flex;\n",
              "      flex-wrap:wrap;\n",
              "      gap: 12px;\n",
              "    }\n",
              "\n",
              "    .colab-df-convert {\n",
              "      background-color: #E8F0FE;\n",
              "      border: none;\n",
              "      border-radius: 50%;\n",
              "      cursor: pointer;\n",
              "      display: none;\n",
              "      fill: #1967D2;\n",
              "      height: 32px;\n",
              "      padding: 0 0 0 0;\n",
              "      width: 32px;\n",
              "    }\n",
              "\n",
              "    .colab-df-convert:hover {\n",
              "      background-color: #E2EBFA;\n",
              "      box-shadow: 0px 1px 2px rgba(60, 64, 67, 0.3), 0px 1px 3px 1px rgba(60, 64, 67, 0.15);\n",
              "      fill: #174EA6;\n",
              "    }\n",
              "\n",
              "    [theme=dark] .colab-df-convert {\n",
              "      background-color: #3B4455;\n",
              "      fill: #D2E3FC;\n",
              "    }\n",
              "\n",
              "    [theme=dark] .colab-df-convert:hover {\n",
              "      background-color: #434B5C;\n",
              "      box-shadow: 0px 1px 3px 1px rgba(0, 0, 0, 0.15);\n",
              "      filter: drop-shadow(0px 1px 2px rgba(0, 0, 0, 0.3));\n",
              "      fill: #FFFFFF;\n",
              "    }\n",
              "  </style>\n",
              "\n",
              "      <script>\n",
              "        const buttonEl =\n",
              "          document.querySelector('#df-4cf2320c-a819-43eb-9e25-9c85f4ddaf11 button.colab-df-convert');\n",
              "        buttonEl.style.display =\n",
              "          google.colab.kernel.accessAllowed ? 'block' : 'none';\n",
              "\n",
              "        async function convertToInteractive(key) {\n",
              "          const element = document.querySelector('#df-4cf2320c-a819-43eb-9e25-9c85f4ddaf11');\n",
              "          const dataTable =\n",
              "            await google.colab.kernel.invokeFunction('convertToInteractive',\n",
              "                                                     [key], {});\n",
              "          if (!dataTable) return;\n",
              "\n",
              "          const docLinkHtml = 'Like what you see? Visit the ' +\n",
              "            '<a target=\"_blank\" href=https://colab.research.google.com/notebooks/data_table.ipynb>data table notebook</a>'\n",
              "            + ' to learn more about interactive tables.';\n",
              "          element.innerHTML = '';\n",
              "          dataTable['output_type'] = 'display_data';\n",
              "          await google.colab.output.renderOutput(dataTable, element);\n",
              "          const docLink = document.createElement('div');\n",
              "          docLink.innerHTML = docLinkHtml;\n",
              "          element.appendChild(docLink);\n",
              "        }\n",
              "      </script>\n",
              "    </div>\n",
              "  </div>\n",
              "  "
            ]
          },
          "metadata": {},
          "execution_count": 11
        }
      ]
    },
    {
      "cell_type": "code",
      "source": [
        "X=pd.concat([X,geography,gender],axis=1)"
      ],
      "metadata": {
        "id": "znbxtQwvfF5S"
      },
      "execution_count": 12,
      "outputs": []
    },
    {
      "cell_type": "code",
      "source": [
        "#Splitting the dataset into Training set and Test Set\n",
        "from sklearn.model_selection import train_test_split\n",
        "\n",
        "X_train,X_test,y_train,y_test=train_test_split(X,y,test_size=0.2,random_state=0)"
      ],
      "metadata": {
        "id": "DW21T7CHfRZD"
      },
      "execution_count": 13,
      "outputs": []
    },
    {
      "cell_type": "code",
      "source": [
        "#feature Scaling\n",
        "\n",
        "from sklearn.preprocessing import StandardScaler\n",
        "sc =StandardScaler()\n",
        "X_train=sc.fit_transform(X_train)\n",
        "X_test=sc.transform(X_test)"
      ],
      "metadata": {
        "id": "-DRvDdH_fxhb"
      },
      "execution_count": 14,
      "outputs": []
    },
    {
      "cell_type": "code",
      "source": [
        "X_train"
      ],
      "metadata": {
        "colab": {
          "base_uri": "https://localhost:8080/"
        },
        "id": "mmBmGZxQhBRP",
        "outputId": "10306942-91b0-4b3e-d6dc-247de237d2dd"
      },
      "execution_count": 15,
      "outputs": [
        {
          "output_type": "execute_result",
          "data": {
            "text/plain": [
              "array([[ 0.16958176, -0.46460796,  0.00666099, ..., -0.5698444 ,\n",
              "         1.74309049, -1.09168714],\n",
              "       [-2.30455945,  0.30102557, -1.37744033, ...,  1.75486502,\n",
              "        -0.57369368,  0.91601335],\n",
              "       [-1.19119591, -0.94312892, -1.031415  , ..., -0.5698444 ,\n",
              "        -0.57369368, -1.09168714],\n",
              "       ...,\n",
              "       [ 0.9015152 , -0.36890377,  0.00666099, ..., -0.5698444 ,\n",
              "        -0.57369368,  0.91601335],\n",
              "       [-0.62420521, -0.08179119,  1.39076231, ..., -0.5698444 ,\n",
              "         1.74309049, -1.09168714],\n",
              "       [-0.28401079,  0.87525072, -1.37744033, ...,  1.75486502,\n",
              "        -0.57369368, -1.09168714]])"
            ]
          },
          "metadata": {},
          "execution_count": 15
        }
      ]
    },
    {
      "cell_type": "code",
      "source": [
        "X_test"
      ],
      "metadata": {
        "colab": {
          "base_uri": "https://localhost:8080/"
        },
        "id": "s69hrrl-g7lb",
        "outputId": "09ac51f8-9e1d-4f07-d330-6ebf152a449e"
      },
      "execution_count": null,
      "outputs": [
        {
          "output_type": "execute_result",
          "data": {
            "text/plain": [
              "array([[-0.55204276, -0.36890377,  1.04473698, ...,  1.75486502,\n",
              "        -0.57369368, -1.09168714],\n",
              "       [-1.31490297,  0.10961719, -1.031415  , ..., -0.5698444 ,\n",
              "        -0.57369368, -1.09168714],\n",
              "       [ 0.57162971,  0.30102557,  1.04473698, ..., -0.5698444 ,\n",
              "         1.74309049, -1.09168714],\n",
              "       ...,\n",
              "       [-0.74791227, -0.27319958, -1.37744033, ..., -0.5698444 ,\n",
              "         1.74309049,  0.91601335],\n",
              "       [-0.00566991, -0.46460796, -0.33936434, ...,  1.75486502,\n",
              "        -0.57369368,  0.91601335],\n",
              "       [-0.79945688, -0.84742473,  1.04473698, ...,  1.75486502,\n",
              "        -0.57369368,  0.91601335]])"
            ]
          },
          "metadata": {},
          "execution_count": 19
        }
      ]
    },
    {
      "cell_type": "code",
      "source": [
        "X_train.shape"
      ],
      "metadata": {
        "colab": {
          "base_uri": "https://localhost:8080/"
        },
        "id": "4dge1jF_hE_R",
        "outputId": "f8fc120b-3c70-4ea0-99ad-69fa1407924b"
      },
      "execution_count": 16,
      "outputs": [
        {
          "output_type": "execute_result",
          "data": {
            "text/plain": [
              "(8000, 11)"
            ]
          },
          "metadata": {},
          "execution_count": 16
        }
      ]
    },
    {
      "cell_type": "code",
      "source": [
        "## Part 2 Now lets create the ANN\n",
        "from tensorflow.keras.models import Sequential\n",
        "from tensorflow.keras.layers import Dense\n",
        "from tensorflow.keras.layers import LeakyReLU,PReLU,ELU,ReLU\n",
        "from tensorflow.keras.layers import Dropout"
      ],
      "metadata": {
        "id": "oGyiJP6hhIsG"
      },
      "execution_count": 17,
      "outputs": []
    },
    {
      "cell_type": "code",
      "source": [
        "### Lets initialize the ANN\n",
        "classifier=Sequential()"
      ],
      "metadata": {
        "id": "oVjDZrsUiUnE"
      },
      "execution_count": 18,
      "outputs": []
    },
    {
      "cell_type": "code",
      "source": [
        "## Adding the input Layer and first hidden layer\n",
        "\n",
        "classifier.add(Dense(10,input_shape=(11,),activation='relu'))\n",
        "## First dense created will be of input layer with shape of 11 as input_shape=(11,)....10 is HL1\n",
        "## kernal_initializer=Weight initialization techniques by default glorat uniform\n",
        "\n",
        "#classifier.add(Dense(units=11,activation='relu'))"
      ],
      "metadata": {
        "id": "Bo8m9RPsj0Yy"
      },
      "execution_count": 19,
      "outputs": []
    },
    {
      "cell_type": "code",
      "source": [
        "classifier.summary()"
      ],
      "metadata": {
        "id": "PrROCi9G7mdb",
        "colab": {
          "base_uri": "https://localhost:8080/"
        },
        "outputId": "b081330b-73ab-4da1-97df-b24bf3163ab6"
      },
      "execution_count": 20,
      "outputs": [
        {
          "output_type": "stream",
          "name": "stdout",
          "text": [
            "Model: \"sequential\"\n",
            "_________________________________________________________________\n",
            " Layer (type)                Output Shape              Param #   \n",
            "=================================================================\n",
            " dense (Dense)               (None, 10)                120       \n",
            "                                                                 \n",
            "=================================================================\n",
            "Total params: 120\n",
            "Trainable params: 120\n",
            "Non-trainable params: 0\n",
            "_________________________________________________________________\n"
          ]
        }
      ]
    },
    {
      "cell_type": "code",
      "source": [
        "# adding the first hidden layer\n",
        "classifier.add(Dense(units=7,activation='relu'))\n",
        "classifier.add(Dropout(0.2))"
      ],
      "metadata": {
        "id": "ODyJnkfwkH3Q"
      },
      "execution_count": null,
      "outputs": []
    },
    {
      "cell_type": "code",
      "source": [
        "##adding the second hidden layer\n",
        "classifier.add(Dense(units=6,activation='relu'))\n",
        "classifier.add(Dropout(0.3))"
      ],
      "metadata": {
        "id": "OUndf0TekSm8"
      },
      "execution_count": 31,
      "outputs": []
    },
    {
      "cell_type": "code",
      "source": [
        "##  Adding the output layer\n",
        "classifier.add(Dense(1,activation='sigmoid'))"
      ],
      "metadata": {
        "id": "-rJBPxk8kgMP"
      },
      "execution_count": 32,
      "outputs": []
    },
    {
      "cell_type": "code",
      "source": [
        "classifier.compile(optimizer=opt,loss='binary_crossentropy',metrics=['accuracy'])\n",
        "## Compile is not fitting, here we are just all inputs , after this we will do fit where training will happen"
      ],
      "metadata": {
        "id": "TmWWsD5akttu"
      },
      "execution_count": 34,
      "outputs": []
    },
    {
      "cell_type": "code",
      "source": [
        "import tensorflow\n",
        "opt=tensorflow.keras.optimizers.Adam(learning_rate=0.01)"
      ],
      "metadata": {
        "id": "HdvIGtgqk975"
      },
      "execution_count": 33,
      "outputs": []
    },
    {
      "cell_type": "code",
      "source": [
        "## Early Stopping\n",
        "## Absolute zero will never reach, after say 100Epochs it is not converging to zero and its rotating around zero, then we should stop the operation\n",
        "import tensorflow as tf\n",
        "early_stopping=tf.keras.callbacks.EarlyStopping(\n",
        "    monitor=\"val_loss\",\n",
        "    min_delta=0.0001,\n",
        "    patience=20,       ## 20   Epochs \n",
        "    verbose=1,\n",
        "    mode=\"auto\",\n",
        "    baseline=None,\n",
        "    restore_best_weights=False,\n",
        ")"
      ],
      "metadata": {
        "id": "erpq8sGEmevo"
      },
      "execution_count": 35,
      "outputs": []
    },
    {
      "cell_type": "code",
      "source": [
        "model_history=classifier.fit(X_train,y_train,validation_split=0.33,batch_size=10,epochs=1000,callbacks=early_stopping)"
      ],
      "metadata": {
        "colab": {
          "base_uri": "https://localhost:8080/"
        },
        "id": "E35GvaF-lI0X",
        "outputId": "87192387-d542-4557-ffe3-b32da7d69dec"
      },
      "execution_count": 36,
      "outputs": [
        {
          "output_type": "stream",
          "name": "stdout",
          "text": [
            "Epoch 1/1000\n",
            "536/536 [==============================] - 3s 4ms/step - loss: 0.4426 - accuracy: 0.8199 - val_loss: 0.3868 - val_accuracy: 0.8345\n",
            "Epoch 2/1000\n",
            "536/536 [==============================] - 2s 3ms/step - loss: 0.3823 - accuracy: 0.8391 - val_loss: 0.3732 - val_accuracy: 0.8463\n",
            "Epoch 3/1000\n",
            "536/536 [==============================] - 2s 4ms/step - loss: 0.3751 - accuracy: 0.8453 - val_loss: 0.3635 - val_accuracy: 0.8455\n",
            "Epoch 4/1000\n",
            "536/536 [==============================] - 2s 3ms/step - loss: 0.3664 - accuracy: 0.8481 - val_loss: 0.3640 - val_accuracy: 0.8504\n",
            "Epoch 5/1000\n",
            "536/536 [==============================] - 2s 3ms/step - loss: 0.3741 - accuracy: 0.8423 - val_loss: 0.3644 - val_accuracy: 0.8459\n",
            "Epoch 6/1000\n",
            "536/536 [==============================] - 2s 3ms/step - loss: 0.3693 - accuracy: 0.8455 - val_loss: 0.3650 - val_accuracy: 0.8485\n",
            "Epoch 7/1000\n",
            "536/536 [==============================] - 2s 4ms/step - loss: 0.3631 - accuracy: 0.8503 - val_loss: 0.3692 - val_accuracy: 0.8451\n",
            "Epoch 8/1000\n",
            "536/536 [==============================] - 2s 3ms/step - loss: 0.3645 - accuracy: 0.8522 - val_loss: 0.3679 - val_accuracy: 0.8413\n",
            "Epoch 9/1000\n",
            "536/536 [==============================] - 2s 4ms/step - loss: 0.3592 - accuracy: 0.8503 - val_loss: 0.3598 - val_accuracy: 0.8436\n",
            "Epoch 10/1000\n",
            "536/536 [==============================] - 2s 4ms/step - loss: 0.3579 - accuracy: 0.8500 - val_loss: 0.3670 - val_accuracy: 0.8474\n",
            "Epoch 11/1000\n",
            "536/536 [==============================] - 2s 3ms/step - loss: 0.3680 - accuracy: 0.8509 - val_loss: 0.3668 - val_accuracy: 0.8463\n",
            "Epoch 12/1000\n",
            "536/536 [==============================] - 2s 3ms/step - loss: 0.3584 - accuracy: 0.8520 - val_loss: 0.3626 - val_accuracy: 0.8501\n",
            "Epoch 13/1000\n",
            "536/536 [==============================] - 2s 3ms/step - loss: 0.3568 - accuracy: 0.8546 - val_loss: 0.3587 - val_accuracy: 0.8519\n",
            "Epoch 14/1000\n",
            "536/536 [==============================] - 2s 4ms/step - loss: 0.3571 - accuracy: 0.8524 - val_loss: 0.3652 - val_accuracy: 0.8497\n",
            "Epoch 15/1000\n",
            "536/536 [==============================] - 2s 3ms/step - loss: 0.3563 - accuracy: 0.8481 - val_loss: 0.3668 - val_accuracy: 0.8478\n",
            "Epoch 16/1000\n",
            "536/536 [==============================] - 2s 3ms/step - loss: 0.3496 - accuracy: 0.8569 - val_loss: 0.3604 - val_accuracy: 0.8493\n",
            "Epoch 17/1000\n",
            "536/536 [==============================] - 2s 3ms/step - loss: 0.3520 - accuracy: 0.8571 - val_loss: 0.3643 - val_accuracy: 0.8523\n",
            "Epoch 18/1000\n",
            "536/536 [==============================] - 2s 4ms/step - loss: 0.3496 - accuracy: 0.8572 - val_loss: 0.3622 - val_accuracy: 0.8531\n",
            "Epoch 19/1000\n",
            "536/536 [==============================] - 2s 3ms/step - loss: 0.3494 - accuracy: 0.8584 - val_loss: 0.3567 - val_accuracy: 0.8535\n",
            "Epoch 20/1000\n",
            "536/536 [==============================] - 2s 3ms/step - loss: 0.3520 - accuracy: 0.8558 - val_loss: 0.3656 - val_accuracy: 0.8527\n",
            "Epoch 21/1000\n",
            "536/536 [==============================] - 2s 3ms/step - loss: 0.3507 - accuracy: 0.8559 - val_loss: 0.3598 - val_accuracy: 0.8474\n",
            "Epoch 22/1000\n",
            "536/536 [==============================] - 2s 3ms/step - loss: 0.3501 - accuracy: 0.8559 - val_loss: 0.3597 - val_accuracy: 0.8459\n",
            "Epoch 23/1000\n",
            "536/536 [==============================] - 2s 4ms/step - loss: 0.3491 - accuracy: 0.8612 - val_loss: 0.3589 - val_accuracy: 0.8508\n",
            "Epoch 24/1000\n",
            "536/536 [==============================] - 2s 3ms/step - loss: 0.3512 - accuracy: 0.8539 - val_loss: 0.3591 - val_accuracy: 0.8489\n",
            "Epoch 25/1000\n",
            "536/536 [==============================] - 2s 4ms/step - loss: 0.3454 - accuracy: 0.8587 - val_loss: 0.3543 - val_accuracy: 0.8550\n",
            "Epoch 26/1000\n",
            "536/536 [==============================] - 2s 4ms/step - loss: 0.3462 - accuracy: 0.8593 - val_loss: 0.3676 - val_accuracy: 0.8493\n",
            "Epoch 27/1000\n",
            "536/536 [==============================] - 2s 3ms/step - loss: 0.3455 - accuracy: 0.8582 - val_loss: 0.3577 - val_accuracy: 0.8538\n",
            "Epoch 28/1000\n",
            "536/536 [==============================] - 3s 6ms/step - loss: 0.3474 - accuracy: 0.8584 - val_loss: 0.3621 - val_accuracy: 0.8527\n",
            "Epoch 29/1000\n",
            "536/536 [==============================] - 3s 6ms/step - loss: 0.3515 - accuracy: 0.8554 - val_loss: 0.3584 - val_accuracy: 0.8519\n",
            "Epoch 30/1000\n",
            "536/536 [==============================] - 4s 7ms/step - loss: 0.3433 - accuracy: 0.8574 - val_loss: 0.3569 - val_accuracy: 0.8519\n",
            "Epoch 31/1000\n",
            "536/536 [==============================] - 4s 8ms/step - loss: 0.3445 - accuracy: 0.8580 - val_loss: 0.3598 - val_accuracy: 0.8565\n",
            "Epoch 32/1000\n",
            "536/536 [==============================] - 3s 5ms/step - loss: 0.3504 - accuracy: 0.8556 - val_loss: 0.3584 - val_accuracy: 0.8531\n",
            "Epoch 33/1000\n",
            "536/536 [==============================] - 2s 4ms/step - loss: 0.3470 - accuracy: 0.8556 - val_loss: 0.3663 - val_accuracy: 0.8531\n",
            "Epoch 34/1000\n",
            "536/536 [==============================] - 2s 3ms/step - loss: 0.3467 - accuracy: 0.8580 - val_loss: 0.3590 - val_accuracy: 0.8538\n",
            "Epoch 35/1000\n",
            "536/536 [==============================] - 2s 3ms/step - loss: 0.3453 - accuracy: 0.8582 - val_loss: 0.3727 - val_accuracy: 0.8516\n",
            "Epoch 36/1000\n",
            "536/536 [==============================] - 2s 4ms/step - loss: 0.3437 - accuracy: 0.8593 - val_loss: 0.3601 - val_accuracy: 0.8504\n",
            "Epoch 37/1000\n",
            "536/536 [==============================] - 2s 5ms/step - loss: 0.3481 - accuracy: 0.8597 - val_loss: 0.3565 - val_accuracy: 0.8538\n",
            "Epoch 38/1000\n",
            "536/536 [==============================] - 2s 4ms/step - loss: 0.3487 - accuracy: 0.8554 - val_loss: 0.3616 - val_accuracy: 0.8519\n",
            "Epoch 39/1000\n",
            "536/536 [==============================] - 2s 4ms/step - loss: 0.3452 - accuracy: 0.8561 - val_loss: 0.3581 - val_accuracy: 0.8557\n",
            "Epoch 40/1000\n",
            "536/536 [==============================] - 2s 3ms/step - loss: 0.3450 - accuracy: 0.8595 - val_loss: 0.3590 - val_accuracy: 0.8482\n",
            "Epoch 41/1000\n",
            "536/536 [==============================] - 2s 4ms/step - loss: 0.3485 - accuracy: 0.8574 - val_loss: 0.3613 - val_accuracy: 0.8542\n",
            "Epoch 42/1000\n",
            "536/536 [==============================] - 2s 3ms/step - loss: 0.3439 - accuracy: 0.8574 - val_loss: 0.3792 - val_accuracy: 0.8497\n",
            "Epoch 43/1000\n",
            "536/536 [==============================] - 2s 3ms/step - loss: 0.3424 - accuracy: 0.8558 - val_loss: 0.3706 - val_accuracy: 0.8538\n",
            "Epoch 44/1000\n",
            "536/536 [==============================] - 2s 4ms/step - loss: 0.3479 - accuracy: 0.8582 - val_loss: 0.3584 - val_accuracy: 0.8519\n",
            "Epoch 45/1000\n",
            "536/536 [==============================] - 2s 4ms/step - loss: 0.3438 - accuracy: 0.8565 - val_loss: 0.3835 - val_accuracy: 0.8360\n",
            "Epoch 45: early stopping\n"
          ]
        }
      ]
    },
    {
      "cell_type": "code",
      "source": [
        "model_history.history.keys()"
      ],
      "metadata": {
        "colab": {
          "base_uri": "https://localhost:8080/"
        },
        "id": "dlap5VOmlgW7",
        "outputId": "6f59f548-26bb-4ac6-ddfd-38f0cc2ccf29"
      },
      "execution_count": 37,
      "outputs": [
        {
          "output_type": "execute_result",
          "data": {
            "text/plain": [
              "dict_keys(['loss', 'accuracy', 'val_loss', 'val_accuracy'])"
            ]
          },
          "metadata": {},
          "execution_count": 37
        }
      ]
    },
    {
      "cell_type": "code",
      "source": [
        "# summarize history for accuracy\n",
        "plt.plot(model_history.history['accuracy'])\n",
        "plt.plot(model_history.history['val_accuracy'])\n",
        "plt.title('model accuracy')\n",
        "plt.ylabel('accuracy')\n",
        "plt.xlabel('epoch')\n",
        "plt.legend(['train', 'test'], loc='upper left')\n",
        "plt.show()"
      ],
      "metadata": {
        "colab": {
          "base_uri": "https://localhost:8080/",
          "height": 295
        },
        "id": "Jc_CvPBNmWPZ",
        "outputId": "b19fd6cb-0998-4d18-ab6c-77fc8e704544"
      },
      "execution_count": 38,
      "outputs": [
        {
          "output_type": "display_data",
          "data": {
            "text/plain": [
              "<Figure size 432x288 with 1 Axes>"
            ],
            "image/png": "[encoded data removed]"
          },
          "metadata": {
            "needs_background": "light"
          }
        }
      ]
    },
    {
      "cell_type": "code",
      "source": [
        "# summarize history for loss\n",
        "plt.plot(model_history.history['loss'])\n",
        "plt.plot(model_history.history['val_loss'])\n",
        "plt.title('model loss')\n",
        "plt.ylabel('loss')\n",
        "plt.xlabel('epoch')\n",
        "plt.legend(['train', 'test'], loc='upper left')\n",
        "plt.show()"
      ],
      "metadata": {
        "colab": {
          "base_uri": "https://localhost:8080/",
          "height": 295
        },
        "id": "0S4HSzKXn50S",
        "outputId": "1061c677-7d56-4b20-b4c5-2d2668ef29d1"
      },
      "execution_count": 39,
      "outputs": [
        {
          "output_type": "display_data",
          "data": {
            "text/plain": [
              "<Figure size 432x288 with 1 Axes>"
            ],
            "image/png": "[encoded data removed]"
          },
          "metadata": {
            "needs_background": "light"
          }
        }
      ]
    },
    {
      "cell_type": "code",
      "source": [
        "# Part 3 - Making the predictions and evaluating the model\n",
        "\n",
        "# Predicting the Test set results\n",
        "y_pred = classifier.predict(X_test)\n",
        "y_pred = (y_pred >= 0.5)"
      ],
      "metadata": {
        "id": "gZQfAEVeoBeb"
      },
      "execution_count": 40,
      "outputs": []
    },
    {
      "cell_type": "code",
      "source": [
        "## make the confusion matrix\n",
        "from sklearn.metrics import confusion_matrix\n",
        "cm=confusion_matrix(y_test,y_pred)\n",
        "cm"
      ],
      "metadata": {
        "colab": {
          "base_uri": "https://localhost:8080/"
        },
        "id": "aOq8YdE-oOiN",
        "outputId": "02f79276-6757-4e30-b3f4-3c7745525cc5"
      },
      "execution_count": 41,
      "outputs": [
        {
          "output_type": "execute_result",
          "data": {
            "text/plain": [
              "array([[1584,   11],\n",
              "       [ 314,   91]])"
            ]
          },
          "metadata": {},
          "execution_count": 41
        }
      ]
    },
    {
      "cell_type": "code",
      "source": [
        "## Calculate the accuracy\n",
        "from sklearn.metrics import accuracy_score\n",
        "score=accuracy_score(y_pred,y_test)"
      ],
      "metadata": {
        "id": "R9Y9bfkeoZWg"
      },
      "execution_count": 42,
      "outputs": []
    },
    {
      "cell_type": "code",
      "source": [
        "score"
      ],
      "metadata": {
        "colab": {
          "base_uri": "https://localhost:8080/"
        },
        "id": "wnRxB3p5okGd",
        "outputId": "2aebd643-f0ea-4b2b-cfc3-0c5e2d30af0d"
      },
      "execution_count": 43,
      "outputs": [
        {
          "output_type": "execute_result",
          "data": {
            "text/plain": [
              "0.8375"
            ]
          },
          "metadata": {},
          "execution_count": 43
        }
      ]
    },
    {
      "cell_type": "code",
      "source": [
        "##get the weights\n",
        "classifier.get_weights()"
      ],
      "metadata": {
        "colab": {
          "base_uri": "https://localhost:8080/"
        },
        "id": "GiQVMACtonW6",
        "outputId": "83273f63-3c0c-4e7a-d126-21b07efeb270"
      },
      "execution_count": 44,
      "outputs": [
        {
          "output_type": "execute_result",
          "data": {
            "text/plain": [
              "[array([[-0.27230084, -0.55482906, -0.17928772, -0.11183021, -0.10561196,\n",
              "         -0.7150057 , -0.40121838,  0.4257337 , -0.40973127, -0.6162227 ],\n",
              "        [ 0.41154906, -2.778104  ,  1.9578755 , -2.29758   ,  0.01391159,\n",
              "         -0.6326714 ,  2.4084797 ,  0.5164833 ,  0.13987878, -2.1137326 ],\n",
              "        [-1.0338646 ,  0.27463546, -0.2867309 , -0.57800573, -0.10152505,\n",
              "          0.06891201,  0.13275564,  0.58960557,  0.44040883,  0.10992323],\n",
              "        [ 1.8615232 , -0.71859545, -0.22611715,  1.6502507 ,  0.66095805,\n",
              "          0.35136783, -0.4997943 , -0.33461577, -2.7255812 ,  2.4420614 ],\n",
              "        [ 2.1063209 ,  0.30669585, -2.077186  ,  0.62152094,  3.2255175 ,\n",
              "         -1.2385609 , -0.31734145, -1.0743217 , -2.5656374 , -0.6101337 ],\n",
              "        [ 0.19868769, -0.05071641, -0.2902422 , -0.3731161 ,  0.14187218,\n",
              "         -0.42271584, -0.02465223, -0.3865468 ,  0.08520605,  0.3089676 ],\n",
              "        [-1.5689502 , -0.8409175 , -1.2177385 , -1.0532726 , -0.5107765 ,\n",
              "         -0.28616577,  1.2278275 , -1.6154016 , -0.66094255, -1.4550589 ],\n",
              "        [ 0.19338982,  0.37403253,  0.1036071 ,  0.48864397, -0.04242826,\n",
              "          2.516112  ,  0.4693862 , -0.33892745,  0.55867827,  0.84712756],\n",
              "        [-2.484469  , -1.4551295 ,  1.0271549 ,  0.3491853 ,  0.0353195 ,\n",
              "         -0.64546067,  0.11541516,  1.5365319 , -0.95832825, -0.5066572 ],\n",
              "        [ 0.07484007, -0.09616146, -0.15314887, -1.193213  ,  0.41232046,\n",
              "         -0.68412685,  0.51378113,  0.18170892, -0.1018094 ,  0.02471298],\n",
              "        [-0.44025832, -0.04686619, -0.36559308, -1.4400525 , -0.3872103 ,\n",
              "         -0.7725012 , -0.00802844, -1.2503252 , -0.0747213 , -1.3225124 ]],\n",
              "       dtype=float32),\n",
              " array([-1.8427066 ,  2.8560803 ,  0.13324885, -2.800359  , -4.474671  ,\n",
              "        -2.7108672 , -4.004067  , -1.396356  , -3.3053322 , -2.3665915 ],\n",
              "       dtype=float32),\n",
              " array([[ 0.5082208 , -2.309456  ,  0.4262418 ,  0.7377707 ,  0.3768966 ,\n",
              "         -0.39860603],\n",
              "        [-1.2961774 ,  0.6272487 , -0.49488366, -1.6151887 , -1.0319346 ,\n",
              "          0.7104286 ],\n",
              "        [ 0.4947604 , -1.4071021 ,  0.6365591 ,  0.41111988,  0.28167465,\n",
              "         -0.331634  ],\n",
              "        [-1.0392488 ,  0.29748747, -0.37580162, -1.1487548 , -1.8965544 ,\n",
              "          0.3858703 ],\n",
              "        [ 2.638605  , -0.22286975,  2.319324  ,  3.3603797 ,  2.8401423 ,\n",
              "         -2.1330142 ],\n",
              "        [ 0.99842507, -1.425027  ,  0.45505494,  0.7121307 ,  0.6765805 ,\n",
              "         -0.5797956 ],\n",
              "        [-1.7368401 ,  1.3966523 , -1.2982877 , -2.0867274 , -0.7775617 ,\n",
              "          1.1895471 ],\n",
              "        [-0.06688662, -0.88762546,  0.39884883, -0.08751398, -0.03562815,\n",
              "         -2.45658   ],\n",
              "        [ 1.1167364 , -2.3487542 ,  0.8813695 ,  0.72077304,  1.0430449 ,\n",
              "         -2.3031976 ],\n",
              "        [-1.6540266 , -1.4521916 ,  0.08852313, -1.7172585 ,  0.30525544,\n",
              "         -0.4871523 ]], dtype=float32),\n",
              " array([-0.29955506,  1.022816  , -0.37709814, -0.75611603,  0.2948248 ,\n",
              "         0.82561666], dtype=float32),\n",
              " array([[ 0.14800584],\n",
              "        [-0.54665655],\n",
              "        [ 0.12401012],\n",
              "        [ 0.20131096],\n",
              "        [ 0.05888602],\n",
              "        [-0.18801884]], dtype=float32),\n",
              " array([-1.6615908], dtype=float32)]"
            ]
          },
          "metadata": {},
          "execution_count": 44
        }
      ]
    },
    {
      "cell_type": "code",
      "source": [
        "## save weights in a file\n",
        "classifier.save('model.h5')"
      ],
      "metadata": {
        "id": "forHdgtKoxLm"
      },
      "execution_count": 45,
      "outputs": []
    },
    {
      "cell_type": "code",
      "source": [
        "## Loading h5 file\n",
        "from tensorflow import keras\n",
        "classifier1=keras.models.load_model('model.h5')"
      ],
      "metadata": {
        "id": "pIJ4e386GVGy"
      },
      "execution_count": 46,
      "outputs": []
    },
    {
      "cell_type": "code",
      "source": [
        "classifier1.predict(X_test)"
      ],
      "metadata": {
        "colab": {
          "base_uri": "https://localhost:8080/"
        },
        "id": "EoctUaj_Gh8K",
        "outputId": "b399b419-780e-4c9d-8f99-20628035c0b2"
      },
      "execution_count": 47,
      "outputs": [
        {
          "output_type": "execute_result",
          "data": {
            "text/plain": [
              "array([[0.21128926],\n",
              "       [0.19058147],\n",
              "       [0.06339553],\n",
              "       ...,\n",
              "       [0.17274421],\n",
              "       [0.16063912],\n",
              "       [0.1793807 ]], dtype=float32)"
            ]
          },
          "metadata": {},
          "execution_count": 47
        }
      ]
    },
    {
      "cell_type": "markdown",
      "source": [
        "### **Doing for Regression**"
      ],
      "metadata": {
        "id": "RKyJoGjzNNdg"
      }
    },
    {
      "cell_type": "code",
      "source": [
        "dataset.columns"
      ],
      "metadata": {
        "colab": {
          "base_uri": "https://localhost:8080/"
        },
        "id": "m_SO4YCUNcdo",
        "outputId": "708027b7-f770-40d4-d879-81699db08faf"
      },
      "execution_count": 49,
      "outputs": [
        {
          "output_type": "execute_result",
          "data": {
            "text/plain": [
              "Index(['RowNumber', 'CustomerId', 'Surname', 'CreditScore', 'Geography',\n",
              "       'Gender', 'Age', 'Tenure', 'Balance', 'NumOfProducts', 'HasCrCard',\n",
              "       'IsActiveMember', 'EstimatedSalary', 'Exited'],\n",
              "      dtype='object')"
            ]
          },
          "metadata": {},
          "execution_count": 49
        }
      ]
    },
    {
      "cell_type": "code",
      "source": [
        "## Regression\n",
        "\n",
        "X=dataset[['CreditScore', 'Geography',\n",
        "       'Gender', 'Age', 'Tenure', 'Balance', 'NumOfProducts', 'HasCrCard',\n",
        "       'IsActiveMember', 'Exited']]\n",
        "y=dataset['EstimatedSalary']"
      ],
      "metadata": {
        "id": "MTtwqpFGG7Yy"
      },
      "execution_count": 57,
      "outputs": []
    },
    {
      "cell_type": "code",
      "source": [
        "X"
      ],
      "metadata": {
        "colab": {
          "base_uri": "https://localhost:8080/",
          "height": 424
        },
        "id": "Ck-S6Yn6N0-l",
        "outputId": "8a0d8d1c-7554-406d-84f3-79d51d27fd06"
      },
      "execution_count": 58,
      "outputs": [
        {
          "output_type": "execute_result",
          "data": {
            "text/plain": [
              "      CreditScore Geography  Gender  Age  Tenure    Balance  NumOfProducts  \\\n",
              "0             619    France  Female   42       2       0.00              1   \n",
              "1             608     Spain  Female   41       1   83807.86              1   \n",
              "2             502    France  Female   42       8  159660.80              3   \n",
              "3             699    France  Female   39       1       0.00              2   \n",
              "4             850     Spain  Female   43       2  125510.82              1   \n",
              "...           ...       ...     ...  ...     ...        ...            ...   \n",
              "9995          771    France    Male   39       5       0.00              2   \n",
              "9996          516    France    Male   35      10   57369.61              1   \n",
              "9997          709    France  Female   36       7       0.00              1   \n",
              "9998          772   Germany    Male   42       3   75075.31              2   \n",
              "9999          792    France  Female   28       4  130142.79              1   \n",
              "\n",
              "      HasCrCard  IsActiveMember  Exited  \n",
              "0             1               1       1  \n",
              "1             0               1       0  \n",
              "2             1               0       1  \n",
              "3             0               0       0  \n",
              "4             1               1       0  \n",
              "...         ...             ...     ...  \n",
              "9995          1               0       0  \n",
              "9996          1               1       0  \n",
              "9997          0               1       1  \n",
              "9998          1               0       1  \n",
              "9999          1               0       0  \n",
              "\n",
              "[10000 rows x 10 columns]"
            ],
            "text/html": [
              "\n",
              "  <div id=\"df-8a1861a8-b5a2-498e-9e1d-6c01b505c009\">\n",
              "    <div class=\"colab-df-container\">\n",
              "      <div>\n",
              "<style scoped>\n",
              "    .dataframe tbody tr th:only-of-type {\n",
              "        vertical-align: middle;\n",
              "    }\n",
              "\n",
              "    .dataframe tbody tr th {\n",
              "        vertical-align: top;\n",
              "    }\n",
              "\n",
              "    .dataframe thead th {\n",
              "        text-align: right;\n",
              "    }\n",
              "</style>\n",
              "<table border=\"1\" class=\"dataframe\">\n",
              "  <thead>\n",
              "    <tr style=\"text-align: right;\">\n",
              "      <th></th>\n",
              "      <th>CreditScore</th>\n",
              "      <th>Geography</th>\n",
              "      <th>Gender</th>\n",
              "      <th>Age</th>\n",
              "      <th>Tenure</th>\n",
              "      <th>Balance</th>\n",
              "      <th>NumOfProducts</th>\n",
              "      <th>HasCrCard</th>\n",
              "      <th>IsActiveMember</th>\n",
              "      <th>Exited</th>\n",
              "    </tr>\n",
              "  </thead>\n",
              "  <tbody>\n",
              "    <tr>\n",
              "      <th>0</th>\n",
              "      <td>619</td>\n",
              "      <td>France</td>\n",
              "      <td>Female</td>\n",
              "      <td>42</td>\n",
              "      <td>2</td>\n",
              "      <td>0.00</td>\n",
              "      <td>1</td>\n",
              "      <td>1</td>\n",
              "      <td>1</td>\n",
              "      <td>1</td>\n",
              "    </tr>\n",
              "    <tr>\n",
              "      <th>1</th>\n",
              "      <td>608</td>\n",
              "      <td>Spain</td>\n",
              "      <td>Female</td>\n",
              "      <td>41</td>\n",
              "      <td>1</td>\n",
              "      <td>83807.86</td>\n",
              "      <td>1</td>\n",
              "      <td>0</td>\n",
              "      <td>1</td>\n",
              "      <td>0</td>\n",
              "    </tr>\n",
              "    <tr>\n",
              "      <th>2</th>\n",
              "      <td>502</td>\n",
              "      <td>France</td>\n",
              "      <td>Female</td>\n",
              "      <td>42</td>\n",
              "      <td>8</td>\n",
              "      <td>159660.80</td>\n",
              "      <td>3</td>\n",
              "      <td>1</td>\n",
              "      <td>0</td>\n",
              "      <td>1</td>\n",
              "    </tr>\n",
              "    <tr>\n",
              "      <th>3</th>\n",
              "      <td>699</td>\n",
              "      <td>France</td>\n",
              "      <td>Female</td>\n",
              "      <td>39</td>\n",
              "      <td>1</td>\n",
              "      <td>0.00</td>\n",
              "      <td>2</td>\n",
              "      <td>0</td>\n",
              "      <td>0</td>\n",
              "      <td>0</td>\n",
              "    </tr>\n",
              "    <tr>\n",
              "      <th>4</th>\n",
              "      <td>850</td>\n",
              "      <td>Spain</td>\n",
              "      <td>Female</td>\n",
              "      <td>43</td>\n",
              "      <td>2</td>\n",
              "      <td>125510.82</td>\n",
              "      <td>1</td>\n",
              "      <td>1</td>\n",
              "      <td>1</td>\n",
              "      <td>0</td>\n",
              "    </tr>\n",
              "    <tr>\n",
              "      <th>...</th>\n",
              "      <td>...</td>\n",
              "      <td>...</td>\n",
              "      <td>...</td>\n",
              "      <td>...</td>\n",
              "      <td>...</td>\n",
              "      <td>...</td>\n",
              "      <td>...</td>\n",
              "      <td>...</td>\n",
              "      <td>...</td>\n",
              "      <td>...</td>\n",
              "    </tr>\n",
              "    <tr>\n",
              "      <th>9995</th>\n",
              "      <td>771</td>\n",
              "      <td>France</td>\n",
              "      <td>Male</td>\n",
              "      <td>39</td>\n",
              "      <td>5</td>\n",
              "      <td>0.00</td>\n",
              "      <td>2</td>\n",
              "      <td>1</td>\n",
              "      <td>0</td>\n",
              "      <td>0</td>\n",
              "    </tr>\n",
              "    <tr>\n",
              "      <th>9996</th>\n",
              "      <td>516</td>\n",
              "      <td>France</td>\n",
              "      <td>Male</td>\n",
              "      <td>35</td>\n",
              "      <td>10</td>\n",
              "      <td>57369.61</td>\n",
              "      <td>1</td>\n",
              "      <td>1</td>\n",
              "      <td>1</td>\n",
              "      <td>0</td>\n",
              "    </tr>\n",
              "    <tr>\n",
              "      <th>9997</th>\n",
              "      <td>709</td>\n",
              "      <td>France</td>\n",
              "      <td>Female</td>\n",
              "      <td>36</td>\n",
              "      <td>7</td>\n",
              "      <td>0.00</td>\n",
              "      <td>1</td>\n",
              "      <td>0</td>\n",
              "      <td>1</td>\n",
              "      <td>1</td>\n",
              "    </tr>\n",
              "    <tr>\n",
              "      <th>9998</th>\n",
              "      <td>772</td>\n",
              "      <td>Germany</td>\n",
              "      <td>Male</td>\n",
              "      <td>42</td>\n",
              "      <td>3</td>\n",
              "      <td>75075.31</td>\n",
              "      <td>2</td>\n",
              "      <td>1</td>\n",
              "      <td>0</td>\n",
              "      <td>1</td>\n",
              "    </tr>\n",
              "    <tr>\n",
              "      <th>9999</th>\n",
              "      <td>792</td>\n",
              "      <td>France</td>\n",
              "      <td>Female</td>\n",
              "      <td>28</td>\n",
              "      <td>4</td>\n",
              "      <td>130142.79</td>\n",
              "      <td>1</td>\n",
              "      <td>1</td>\n",
              "      <td>0</td>\n",
              "      <td>0</td>\n",
              "    </tr>\n",
              "  </tbody>\n",
              "</table>\n",
              "<p>10000 rows × 10 columns</p>\n",
              "</div>\n",
              "      <button class=\"colab-df-convert\" onclick=\"convertToInteractive('df-8a1861a8-b5a2-498e-9e1d-6c01b505c009')\"\n",
              "              title=\"Convert this dataframe to an interactive table.\"\n",
              "              style=\"display:none;\">\n",
              "        \n",
              "  <svg xmlns=\"http://www.w3.org/2000/svg\" height=\"24px\"viewBox=\"0 0 24 24\"\n",
              "       width=\"24px\">\n",
              "    <path d=\"M0 0h24v24H0V0z\" fill=\"none\"/>\n",
              "    <path d=\"M18.56 5.44l.94 2.06.94-2.06 2.06-.94-2.06-.94-.94-2.06-.94 2.06-2.06.94zm-11 1L8.5 8.5l.94-2.06 2.06-.94-2.06-.94L8.5 2.5l-.94 2.06-2.06.94zm10 10l.94 2.06.94-2.06 2.06-.94-2.06-.94-.94-2.06-.94 2.06-2.06.94z\"/><path d=\"M17.41 7.96l-1.37-1.37c-.4-.4-.92-.59-1.43-.59-.52 0-1.04.2-1.43.59L10.3 9.45l-7.72 7.72c-.78.78-.78 2.05 0 2.83L4 21.41c.39.39.9.59 1.41.59.51 0 1.02-.2 1.41-.59l7.78-7.78 2.81-2.81c.8-.78.8-2.07 0-2.86zM5.41 20L4 18.59l7.72-7.72 1.47 1.35L5.41 20z\"/>\n",
              "  </svg>\n",
              "      </button>\n",
              "      \n",
              "  <style>\n",
              "    .colab-df-container {\n",
              "      display:flex;\n",
              "      flex-wrap:wrap;\n",
              "      gap: 12px;\n",
              "    }\n",
              "\n",
              "    .colab-df-convert {\n",
              "      background-color: #E8F0FE;\n",
              "      border: none;\n",
              "      border-radius: 50%;\n",
              "      cursor: pointer;\n",
              "      display: none;\n",
              "      fill: #1967D2;\n",
              "      height: 32px;\n",
              "      padding: 0 0 0 0;\n",
              "      width: 32px;\n",
              "    }\n",
              "\n",
              "    .colab-df-convert:hover {\n",
              "      background-color: #E2EBFA;\n",
              "      box-shadow: 0px 1px 2px rgba(60, 64, 67, 0.3), 0px 1px 3px 1px rgba(60, 64, 67, 0.15);\n",
              "      fill: #174EA6;\n",
              "    }\n",
              "\n",
              "    [theme=dark] .colab-df-convert {\n",
              "      background-color: #3B4455;\n",
              "      fill: #D2E3FC;\n",
              "    }\n",
              "\n",
              "    [theme=dark] .colab-df-convert:hover {\n",
              "      background-color: #434B5C;\n",
              "      box-shadow: 0px 1px 3px 1px rgba(0, 0, 0, 0.15);\n",
              "      filter: drop-shadow(0px 1px 2px rgba(0, 0, 0, 0.3));\n",
              "      fill: #FFFFFF;\n",
              "    }\n",
              "  </style>\n",
              "\n",
              "      <script>\n",
              "        const buttonEl =\n",
              "          document.querySelector('#df-8a1861a8-b5a2-498e-9e1d-6c01b505c009 button.colab-df-convert');\n",
              "        buttonEl.style.display =\n",
              "          google.colab.kernel.accessAllowed ? 'block' : 'none';\n",
              "\n",
              "        async function convertToInteractive(key) {\n",
              "          const element = document.querySelector('#df-8a1861a8-b5a2-498e-9e1d-6c01b505c009');\n",
              "          const dataTable =\n",
              "            await google.colab.kernel.invokeFunction('convertToInteractive',\n",
              "                                                     [key], {});\n",
              "          if (!dataTable) return;\n",
              "\n",
              "          const docLinkHtml = 'Like what you see? Visit the ' +\n",
              "            '<a target=\"_blank\" href=https://colab.research.google.com/notebooks/data_table.ipynb>data table notebook</a>'\n",
              "            + ' to learn more about interactive tables.';\n",
              "          element.innerHTML = '';\n",
              "          dataTable['output_type'] = 'display_data';\n",
              "          await google.colab.output.renderOutput(dataTable, element);\n",
              "          const docLink = document.createElement('div');\n",
              "          docLink.innerHTML = docLinkHtml;\n",
              "          element.appendChild(docLink);\n",
              "        }\n",
              "      </script>\n",
              "    </div>\n",
              "  </div>\n",
              "  "
            ]
          },
          "metadata": {},
          "execution_count": 58
        }
      ]
    },
    {
      "cell_type": "code",
      "source": [
        "y"
      ],
      "metadata": {
        "colab": {
          "base_uri": "https://localhost:8080/"
        },
        "id": "2--SkIYMOFh0",
        "outputId": "f5e0d389-8f74-4954-b93f-d5817c1340af"
      },
      "execution_count": 59,
      "outputs": [
        {
          "output_type": "execute_result",
          "data": {
            "text/plain": [
              "0       101348.88\n",
              "1       112542.58\n",
              "2       113931.57\n",
              "3        93826.63\n",
              "4        79084.10\n",
              "          ...    \n",
              "9995     96270.64\n",
              "9996    101699.77\n",
              "9997     42085.58\n",
              "9998     92888.52\n",
              "9999     38190.78\n",
              "Name: EstimatedSalary, Length: 10000, dtype: float64"
            ]
          },
          "metadata": {},
          "execution_count": 59
        }
      ]
    },
    {
      "cell_type": "code",
      "source": [
        "## Ferature Engineering \n",
        "geography=pd.get_dummies(X['Geography'],drop_first=True)\n",
        "gender=pd.get_dummies(X['Gender'],drop_first=True)"
      ],
      "metadata": {
        "id": "SmvVoBUAOIWM"
      },
      "execution_count": 60,
      "outputs": []
    },
    {
      "cell_type": "code",
      "source": [
        "## Concatenate these variables with dataframe\n",
        "X=X.drop(['Geography','Gender'],axis=1)\n",
        "X=pd.concat([X,geography,gender],axis=1) "
      ],
      "metadata": {
        "id": "CGtWM1OiOM9T"
      },
      "execution_count": 61,
      "outputs": []
    },
    {
      "cell_type": "code",
      "source": [
        "X"
      ],
      "metadata": {
        "colab": {
          "base_uri": "https://localhost:8080/",
          "height": 424
        },
        "id": "76D-RQ-OOT2T",
        "outputId": "bac1c7cb-f1de-47a0-a4ad-aea951cb49e3"
      },
      "execution_count": 62,
      "outputs": [
        {
          "output_type": "execute_result",
          "data": {
            "text/plain": [
              "      CreditScore  Age  Tenure    Balance  NumOfProducts  HasCrCard  \\\n",
              "0             619   42       2       0.00              1          1   \n",
              "1             608   41       1   83807.86              1          0   \n",
              "2             502   42       8  159660.80              3          1   \n",
              "3             699   39       1       0.00              2          0   \n",
              "4             850   43       2  125510.82              1          1   \n",
              "...           ...  ...     ...        ...            ...        ...   \n",
              "9995          771   39       5       0.00              2          1   \n",
              "9996          516   35      10   57369.61              1          1   \n",
              "9997          709   36       7       0.00              1          0   \n",
              "9998          772   42       3   75075.31              2          1   \n",
              "9999          792   28       4  130142.79              1          1   \n",
              "\n",
              "      IsActiveMember  Exited  Germany  Spain  Male  \n",
              "0                  1       1        0      0     0  \n",
              "1                  1       0        0      1     0  \n",
              "2                  0       1        0      0     0  \n",
              "3                  0       0        0      0     0  \n",
              "4                  1       0        0      1     0  \n",
              "...              ...     ...      ...    ...   ...  \n",
              "9995               0       0        0      0     1  \n",
              "9996               1       0        0      0     1  \n",
              "9997               1       1        0      0     0  \n",
              "9998               0       1        1      0     1  \n",
              "9999               0       0        0      0     0  \n",
              "\n",
              "[10000 rows x 11 columns]"
            ],
            "text/html": [
              "\n",
              "  <div id=\"df-e4fdb913-501e-4af5-9f50-36f2e760cb6d\">\n",
              "    <div class=\"colab-df-container\">\n",
              "      <div>\n",
              "<style scoped>\n",
              "    .dataframe tbody tr th:only-of-type {\n",
              "        vertical-align: middle;\n",
              "    }\n",
              "\n",
              "    .dataframe tbody tr th {\n",
              "        vertical-align: top;\n",
              "    }\n",
              "\n",
              "    .dataframe thead th {\n",
              "        text-align: right;\n",
              "    }\n",
              "</style>\n",
              "<table border=\"1\" class=\"dataframe\">\n",
              "  <thead>\n",
              "    <tr style=\"text-align: right;\">\n",
              "      <th></th>\n",
              "      <th>CreditScore</th>\n",
              "      <th>Age</th>\n",
              "      <th>Tenure</th>\n",
              "      <th>Balance</th>\n",
              "      <th>NumOfProducts</th>\n",
              "      <th>HasCrCard</th>\n",
              "      <th>IsActiveMember</th>\n",
              "      <th>Exited</th>\n",
              "      <th>Germany</th>\n",
              "      <th>Spain</th>\n",
              "      <th>Male</th>\n",
              "    </tr>\n",
              "  </thead>\n",
              "  <tbody>\n",
              "    <tr>\n",
              "      <th>0</th>\n",
              "      <td>619</td>\n",
              "      <td>42</td>\n",
              "      <td>2</td>\n",
              "      <td>0.00</td>\n",
              "      <td>1</td>\n",
              "      <td>1</td>\n",
              "      <td>1</td>\n",
              "      <td>1</td>\n",
              "      <td>0</td>\n",
              "      <td>0</td>\n",
              "      <td>0</td>\n",
              "    </tr>\n",
              "    <tr>\n",
              "      <th>1</th>\n",
              "      <td>608</td>\n",
              "      <td>41</td>\n",
              "      <td>1</td>\n",
              "      <td>83807.86</td>\n",
              "      <td>1</td>\n",
              "      <td>0</td>\n",
              "      <td>1</td>\n",
              "      <td>0</td>\n",
              "      <td>0</td>\n",
              "      <td>1</td>\n",
              "      <td>0</td>\n",
              "    </tr>\n",
              "    <tr>\n",
              "      <th>2</th>\n",
              "      <td>502</td>\n",
              "      <td>42</td>\n",
              "      <td>8</td>\n",
              "      <td>159660.80</td>\n",
              "      <td>3</td>\n",
              "      <td>1</td>\n",
              "      <td>0</td>\n",
              "      <td>1</td>\n",
              "      <td>0</td>\n",
              "      <td>0</td>\n",
              "      <td>0</td>\n",
              "    </tr>\n",
              "    <tr>\n",
              "      <th>3</th>\n",
              "      <td>699</td>\n",
              "      <td>39</td>\n",
              "      <td>1</td>\n",
              "      <td>0.00</td>\n",
              "      <td>2</td>\n",
              "      <td>0</td>\n",
              "      <td>0</td>\n",
              "      <td>0</td>\n",
              "      <td>0</td>\n",
              "      <td>0</td>\n",
              "      <td>0</td>\n",
              "    </tr>\n",
              "    <tr>\n",
              "      <th>4</th>\n",
              "      <td>850</td>\n",
              "      <td>43</td>\n",
              "      <td>2</td>\n",
              "      <td>125510.82</td>\n",
              "      <td>1</td>\n",
              "      <td>1</td>\n",
              "      <td>1</td>\n",
              "      <td>0</td>\n",
              "      <td>0</td>\n",
              "      <td>1</td>\n",
              "      <td>0</td>\n",
              "    </tr>\n",
              "    <tr>\n",
              "      <th>...</th>\n",
              "      <td>...</td>\n",
              "      <td>...</td>\n",
              "      <td>...</td>\n",
              "      <td>...</td>\n",
              "      <td>...</td>\n",
              "      <td>...</td>\n",
              "      <td>...</td>\n",
              "      <td>...</td>\n",
              "      <td>...</td>\n",
              "      <td>...</td>\n",
              "      <td>...</td>\n",
              "    </tr>\n",
              "    <tr>\n",
              "      <th>9995</th>\n",
              "      <td>771</td>\n",
              "      <td>39</td>\n",
              "      <td>5</td>\n",
              "      <td>0.00</td>\n",
              "      <td>2</td>\n",
              "      <td>1</td>\n",
              "      <td>0</td>\n",
              "      <td>0</td>\n",
              "      <td>0</td>\n",
              "      <td>0</td>\n",
              "      <td>1</td>\n",
              "    </tr>\n",
              "    <tr>\n",
              "      <th>9996</th>\n",
              "      <td>516</td>\n",
              "      <td>35</td>\n",
              "      <td>10</td>\n",
              "      <td>57369.61</td>\n",
              "      <td>1</td>\n",
              "      <td>1</td>\n",
              "      <td>1</td>\n",
              "      <td>0</td>\n",
              "      <td>0</td>\n",
              "      <td>0</td>\n",
              "      <td>1</td>\n",
              "    </tr>\n",
              "    <tr>\n",
              "      <th>9997</th>\n",
              "      <td>709</td>\n",
              "      <td>36</td>\n",
              "      <td>7</td>\n",
              "      <td>0.00</td>\n",
              "      <td>1</td>\n",
              "      <td>0</td>\n",
              "      <td>1</td>\n",
              "      <td>1</td>\n",
              "      <td>0</td>\n",
              "      <td>0</td>\n",
              "      <td>0</td>\n",
              "    </tr>\n",
              "    <tr>\n",
              "      <th>9998</th>\n",
              "      <td>772</td>\n",
              "      <td>42</td>\n",
              "      <td>3</td>\n",
              "      <td>75075.31</td>\n",
              "      <td>2</td>\n",
              "      <td>1</td>\n",
              "      <td>0</td>\n",
              "      <td>1</td>\n",
              "      <td>1</td>\n",
              "      <td>0</td>\n",
              "      <td>1</td>\n",
              "    </tr>\n",
              "    <tr>\n",
              "      <th>9999</th>\n",
              "      <td>792</td>\n",
              "      <td>28</td>\n",
              "      <td>4</td>\n",
              "      <td>130142.79</td>\n",
              "      <td>1</td>\n",
              "      <td>1</td>\n",
              "      <td>0</td>\n",
              "      <td>0</td>\n",
              "      <td>0</td>\n",
              "      <td>0</td>\n",
              "      <td>0</td>\n",
              "    </tr>\n",
              "  </tbody>\n",
              "</table>\n",
              "<p>10000 rows × 11 columns</p>\n",
              "</div>\n",
              "      <button class=\"colab-df-convert\" onclick=\"convertToInteractive('df-e4fdb913-501e-4af5-9f50-36f2e760cb6d')\"\n",
              "              title=\"Convert this dataframe to an interactive table.\"\n",
              "              style=\"display:none;\">\n",
              "        \n",
              "  <svg xmlns=\"http://www.w3.org/2000/svg\" height=\"24px\"viewBox=\"0 0 24 24\"\n",
              "       width=\"24px\">\n",
              "    <path d=\"M0 0h24v24H0V0z\" fill=\"none\"/>\n",
              "    <path d=\"M18.56 5.44l.94 2.06.94-2.06 2.06-.94-2.06-.94-.94-2.06-.94 2.06-2.06.94zm-11 1L8.5 8.5l.94-2.06 2.06-.94-2.06-.94L8.5 2.5l-.94 2.06-2.06.94zm10 10l.94 2.06.94-2.06 2.06-.94-2.06-.94-.94-2.06-.94 2.06-2.06.94z\"/><path d=\"M17.41 7.96l-1.37-1.37c-.4-.4-.92-.59-1.43-.59-.52 0-1.04.2-1.43.59L10.3 9.45l-7.72 7.72c-.78.78-.78 2.05 0 2.83L4 21.41c.39.39.9.59 1.41.59.51 0 1.02-.2 1.41-.59l7.78-7.78 2.81-2.81c.8-.78.8-2.07 0-2.86zM5.41 20L4 18.59l7.72-7.72 1.47 1.35L5.41 20z\"/>\n",
              "  </svg>\n",
              "      </button>\n",
              "      \n",
              "  <style>\n",
              "    .colab-df-container {\n",
              "      display:flex;\n",
              "      flex-wrap:wrap;\n",
              "      gap: 12px;\n",
              "    }\n",
              "\n",
              "    .colab-df-convert {\n",
              "      background-color: #E8F0FE;\n",
              "      border: none;\n",
              "      border-radius: 50%;\n",
              "      cursor: pointer;\n",
              "      display: none;\n",
              "      fill: #1967D2;\n",
              "      height: 32px;\n",
              "      padding: 0 0 0 0;\n",
              "      width: 32px;\n",
              "    }\n",
              "\n",
              "    .colab-df-convert:hover {\n",
              "      background-color: #E2EBFA;\n",
              "      box-shadow: 0px 1px 2px rgba(60, 64, 67, 0.3), 0px 1px 3px 1px rgba(60, 64, 67, 0.15);\n",
              "      fill: #174EA6;\n",
              "    }\n",
              "\n",
              "    [theme=dark] .colab-df-convert {\n",
              "      background-color: #3B4455;\n",
              "      fill: #D2E3FC;\n",
              "    }\n",
              "\n",
              "    [theme=dark] .colab-df-convert:hover {\n",
              "      background-color: #434B5C;\n",
              "      box-shadow: 0px 1px 3px 1px rgba(0, 0, 0, 0.15);\n",
              "      filter: drop-shadow(0px 1px 2px rgba(0, 0, 0, 0.3));\n",
              "      fill: #FFFFFF;\n",
              "    }\n",
              "  </style>\n",
              "\n",
              "      <script>\n",
              "        const buttonEl =\n",
              "          document.querySelector('#df-e4fdb913-501e-4af5-9f50-36f2e760cb6d button.colab-df-convert');\n",
              "        buttonEl.style.display =\n",
              "          google.colab.kernel.accessAllowed ? 'block' : 'none';\n",
              "\n",
              "        async function convertToInteractive(key) {\n",
              "          const element = document.querySelector('#df-e4fdb913-501e-4af5-9f50-36f2e760cb6d');\n",
              "          const dataTable =\n",
              "            await google.colab.kernel.invokeFunction('convertToInteractive',\n",
              "                                                     [key], {});\n",
              "          if (!dataTable) return;\n",
              "\n",
              "          const docLinkHtml = 'Like what you see? Visit the ' +\n",
              "            '<a target=\"_blank\" href=https://colab.research.google.com/notebooks/data_table.ipynb>data table notebook</a>'\n",
              "            + ' to learn more about interactive tables.';\n",
              "          element.innerHTML = '';\n",
              "          dataTable['output_type'] = 'display_data';\n",
              "          await google.colab.output.renderOutput(dataTable, element);\n",
              "          const docLink = document.createElement('div');\n",
              "          docLink.innerHTML = docLinkHtml;\n",
              "          element.appendChild(docLink);\n",
              "        }\n",
              "      </script>\n",
              "    </div>\n",
              "  </div>\n",
              "  "
            ]
          },
          "metadata": {},
          "execution_count": 62
        }
      ]
    },
    {
      "cell_type": "code",
      "source": [
        "#Splitting the dataset into Training set and Test Set\n",
        "\n",
        "from sklearn.model_selection import train_test_split\n",
        "\n",
        "X_train,X_test,y_train,y_test=train_test_split(X,y,test_size=0.2,random_state=0)"
      ],
      "metadata": {
        "id": "jxRBz583OVxD"
      },
      "execution_count": 63,
      "outputs": []
    },
    {
      "cell_type": "code",
      "source": [
        ""
      ],
      "metadata": {
        "id": "rPmsSqTjOvGj"
      },
      "execution_count": 64,
      "outputs": []
    },
    {
      "cell_type": "code",
      "source": [
        "# Feature Scaling\n",
        "\n",
        "from sklearn.preprocessing import StandardScaler\n",
        "sc =StandardScaler()\n",
        "X_train=sc.fit_transform(X_train)\n",
        "X_test=sc.transform(X_test)"
      ],
      "metadata": {
        "id": "oB1BxjB5OxTb"
      },
      "execution_count": 65,
      "outputs": []
    },
    {
      "cell_type": "code",
      "source": [
        "### Lets initialize the ANN\n",
        "\n",
        "regressor=Sequential()"
      ],
      "metadata": {
        "id": "yDB6upwxO18z"
      },
      "execution_count": 66,
      "outputs": []
    },
    {
      "cell_type": "code",
      "source": [
        "## Adding the input Layer and first hidden layer\n",
        "\n",
        "regressor.add(Dense(10,input_shape=(11,),activation='relu'))"
      ],
      "metadata": {
        "id": "TZEchnqPO6h6"
      },
      "execution_count": 67,
      "outputs": []
    },
    {
      "cell_type": "code",
      "source": [
        "# Adding the first hidden layer\n",
        "\n",
        "regressor.add(Dense(units=10,activation='relu'))\n",
        "regressor.add(Dropout(0.2))"
      ],
      "metadata": {
        "id": "pTEVN9FSP1k5"
      },
      "execution_count": 68,
      "outputs": []
    },
    {
      "cell_type": "code",
      "source": [
        "## Adding the second hidden layer\n",
        "\n",
        "regressor.add(Dense(units=10,activation='relu'))\n",
        "regressor.add(Dropout(0.3))"
      ],
      "metadata": {
        "id": "gnApUUomP8eZ"
      },
      "execution_count": 69,
      "outputs": []
    },
    {
      "cell_type": "code",
      "source": [
        "##  Adding the output layer\n",
        "\n",
        "regressor.add(Dense(1,activation='linear'))"
      ],
      "metadata": {
        "id": "ZJExkYmbQA9t"
      },
      "execution_count": 70,
      "outputs": []
    },
    {
      "cell_type": "code",
      "source": [
        "## Compiling everything\n",
        "\n",
        "regressor.compile(optimizer=opt,loss='mean_squared_error',metrics=['accuracy'])"
      ],
      "metadata": {
        "id": "mRv1GEN7QD0A"
      },
      "execution_count": 71,
      "outputs": []
    },
    {
      "cell_type": "code",
      "source": [
        "## We can do like this also for loss parameter during compile\n",
        "\n",
        "mse=tensorflow.keras.losses.MeanSquaredError(\n",
        "    name='mean_squared_error'\n",
        ")\n",
        "metrics=tensorflow.keras.metrics.MeanSquaredError(\n",
        "    name='mean_squared_error', dtype=None\n",
        ")"
      ],
      "metadata": {
        "id": "j8FmV9q_QGCo"
      },
      "execution_count": 77,
      "outputs": []
    },
    {
      "cell_type": "code",
      "source": [
        "regressor.compile(optimizer=opt,loss=mse,metrics=[metrics])"
      ],
      "metadata": {
        "id": "ey8yLVFHQSdA"
      },
      "execution_count": 78,
      "outputs": []
    },
    {
      "cell_type": "code",
      "source": [
        "## Early Stopping Test 1\n",
        "\n",
        "early_stopping=tf.keras.callbacks.EarlyStopping(\n",
        "    monitor=\"val_loss\",\n",
        "    patience=20       ## 20   Epochs \n",
        ")"
      ],
      "metadata": {
        "id": "Z-3yNghSQexw"
      },
      "execution_count": 79,
      "outputs": []
    },
    {
      "cell_type": "code",
      "source": [
        "## Training Model\n",
        "\n",
        "model_history=classifier.fit(X_train,y_train,validation_data=(X_test,y_test),batch_size=10,epochs=100,callbacks=early_stopping)"
      ],
      "metadata": {
        "colab": {
          "base_uri": "https://localhost:8080/"
        },
        "id": "E-a5yavSQtT3",
        "outputId": "7c2c3fbf-a96f-4029-afdb-a35a4060a788"
      },
      "execution_count": 80,
      "outputs": [
        {
          "output_type": "stream",
          "name": "stdout",
          "text": [
            "Epoch 1/100\n",
            "800/800 [==============================] - 2s 3ms/step - loss: -3428426773954560.0000 - accuracy: 0.0000e+00 - val_loss: -3481590416015360.0000 - val_accuracy: 0.0000e+00\n",
            "Epoch 2/100\n",
            "800/800 [==============================] - 2s 3ms/step - loss: -3527894458433536.0000 - accuracy: 0.0000e+00 - val_loss: -3577771108335616.0000 - val_accuracy: 0.0000e+00\n",
            "Epoch 3/100\n",
            "800/800 [==============================] - 2s 3ms/step - loss: -3619130569654272.0000 - accuracy: 0.0000e+00 - val_loss: -3675553018150912.0000 - val_accuracy: 0.0000e+00\n",
            "Epoch 4/100\n",
            "800/800 [==============================] - 2s 3ms/step - loss: -3717040254746624.0000 - accuracy: 0.0000e+00 - val_loss: -3774932387364864.0000 - val_accuracy: 0.0000e+00\n",
            "Epoch 5/100\n",
            "800/800 [==============================] - 2s 3ms/step - loss: -3802277907267584.0000 - accuracy: 0.0000e+00 - val_loss: -3876107858214912.0000 - val_accuracy: 0.0000e+00\n",
            "Epoch 6/100\n",
            "800/800 [==============================] - 3s 3ms/step - loss: -3929664489783296.0000 - accuracy: 0.0000e+00 - val_loss: -3979336323432448.0000 - val_accuracy: 0.0000e+00\n",
            "Epoch 7/100\n",
            "800/800 [==============================] - 2s 3ms/step - loss: -4035943723958272.0000 - accuracy: 0.0000e+00 - val_loss: -4084408671797248.0000 - val_accuracy: 0.0000e+00\n",
            "Epoch 8/100\n",
            "800/800 [==============================] - 2s 3ms/step - loss: -4102518132965376.0000 - accuracy: 0.0000e+00 - val_loss: -4190857825615872.0000 - val_accuracy: 0.0000e+00\n",
            "Epoch 9/100\n",
            "800/800 [==============================] - 2s 3ms/step - loss: -4224645528027136.0000 - accuracy: 0.0000e+00 - val_loss: -4299345209851904.0000 - val_accuracy: 0.0000e+00\n",
            "Epoch 10/100\n",
            "800/800 [==============================] - 2s 3ms/step - loss: -4355666458181632.0000 - accuracy: 0.0000e+00 - val_loss: -4410197778890752.0000 - val_accuracy: 0.0000e+00\n",
            "Epoch 11/100\n",
            "800/800 [==============================] - 2s 3ms/step - loss: -4429443527344128.0000 - accuracy: 0.0000e+00 - val_loss: -4521845185314816.0000 - val_accuracy: 0.0000e+00\n",
            "Epoch 12/100\n",
            "800/800 [==============================] - 2s 3ms/step - loss: -4583118799372288.0000 - accuracy: 0.0000e+00 - val_loss: -4636437597126656.0000 - val_accuracy: 0.0000e+00\n",
            "Epoch 13/100\n",
            "800/800 [==============================] - 2s 3ms/step - loss: -4687792521084928.0000 - accuracy: 0.0000e+00 - val_loss: -4752510698913792.0000 - val_accuracy: 0.0000e+00\n",
            "Epoch 14/100\n",
            "800/800 [==============================] - 2s 3ms/step - loss: -4811145055567872.0000 - accuracy: 0.0000e+00 - val_loss: -4870500966727680.0000 - val_accuracy: 0.0000e+00\n",
            "Epoch 15/100\n",
            "800/800 [==============================] - 3s 3ms/step - loss: -4895776849264640.0000 - accuracy: 0.0000e+00 - val_loss: -4990104531632128.0000 - val_accuracy: 0.0000e+00\n",
            "Epoch 16/100\n",
            "800/800 [==============================] - 2s 3ms/step - loss: -5053378526707712.0000 - accuracy: 0.0000e+00 - val_loss: -5112151932928000.0000 - val_accuracy: 0.0000e+00\n",
            "Epoch 17/100\n",
            "800/800 [==============================] - 3s 4ms/step - loss: -5173483529043968.0000 - accuracy: 0.0000e+00 - val_loss: -5235968323878912.0000 - val_accuracy: 0.0000e+00\n",
            "Epoch 18/100\n",
            "800/800 [==============================] - 2s 3ms/step - loss: -5260619288674304.0000 - accuracy: 0.0000e+00 - val_loss: -5361142998237184.0000 - val_accuracy: 0.0000e+00\n",
            "Epoch 19/100\n",
            "800/800 [==============================] - 2s 3ms/step - loss: -5399147016355840.0000 - accuracy: 0.0000e+00 - val_loss: -5488563940491264.0000 - val_accuracy: 0.0000e+00\n",
            "Epoch 20/100\n",
            "800/800 [==============================] - 3s 3ms/step - loss: -5553515657166848.0000 - accuracy: 0.0000e+00 - val_loss: -5618511934128128.0000 - val_accuracy: 0.0000e+00\n",
            "Epoch 21/100\n",
            "800/800 [==============================] - 2s 3ms/step - loss: -5676991135088640.0000 - accuracy: 0.0000e+00 - val_loss: -5750545134387200.0000 - val_accuracy: 0.0000e+00\n",
            "Epoch 22/100\n",
            "800/800 [==============================] - 3s 3ms/step - loss: -5836970076930048.0000 - accuracy: 0.0000e+00 - val_loss: -5884480468287488.0000 - val_accuracy: 0.0000e+00\n",
            "Epoch 23/100\n",
            "800/800 [==============================] - 2s 3ms/step - loss: -5962731014324224.0000 - accuracy: 0.0000e+00 - val_loss: -6020270154317824.0000 - val_accuracy: 0.0000e+00\n",
            "Epoch 24/100\n",
            "800/800 [==============================] - 2s 3ms/step - loss: -6084940550635520.0000 - accuracy: 0.0000e+00 - val_loss: -6158578301796352.0000 - val_accuracy: 0.0000e+00\n",
            "Epoch 25/100\n",
            "800/800 [==============================] - 3s 3ms/step - loss: -6236843343347712.0000 - accuracy: 0.0000e+00 - val_loss: -6298869650423808.0000 - val_accuracy: 0.0000e+00\n",
            "Epoch 26/100\n",
            "800/800 [==============================] - 3s 3ms/step - loss: -6353255210680320.0000 - accuracy: 0.0000e+00 - val_loss: -6440596591869952.0000 - val_accuracy: 0.0000e+00\n",
            "Epoch 27/100\n",
            "800/800 [==============================] - 3s 3ms/step - loss: -6471288428167168.0000 - accuracy: 0.0000e+00 - val_loss: -6584477459415040.0000 - val_accuracy: 0.0000e+00\n",
            "Epoch 28/100\n",
            "800/800 [==============================] - 2s 3ms/step - loss: -6680452261740544.0000 - accuracy: 0.0000e+00 - val_loss: -6731424396738560.0000 - val_accuracy: 0.0000e+00\n",
            "Epoch 29/100\n",
            "800/800 [==============================] - 2s 3ms/step - loss: -6755912689647616.0000 - accuracy: 0.0000e+00 - val_loss: -6878665002450944.0000 - val_accuracy: 0.0000e+00\n",
            "Epoch 30/100\n",
            "800/800 [==============================] - 3s 3ms/step - loss: -6931292847341568.0000 - accuracy: 0.0000e+00 - val_loss: -7029167098953728.0000 - val_accuracy: 0.0000e+00\n",
            "Epoch 31/100\n",
            "800/800 [==============================] - 2s 3ms/step - loss: -7078757865095168.0000 - accuracy: 0.0000e+00 - val_loss: -7181737222209536.0000 - val_accuracy: 0.0000e+00\n",
            "Epoch 32/100\n",
            "800/800 [==============================] - 2s 3ms/step - loss: -7236256463323136.0000 - accuracy: 0.0000e+00 - val_loss: -7336778562273280.0000 - val_accuracy: 0.0000e+00\n",
            "Epoch 33/100\n",
            "800/800 [==============================] - 2s 3ms/step - loss: -7342727628849152.0000 - accuracy: 0.0000e+00 - val_loss: -7493400450301952.0000 - val_accuracy: 0.0000e+00\n",
            "Epoch 34/100\n",
            "800/800 [==============================] - 2s 3ms/step - loss: -7544848252928000.0000 - accuracy: 0.0000e+00 - val_loss: -7653049216532480.0000 - val_accuracy: 0.0000e+00\n",
            "Epoch 35/100\n",
            "800/800 [==============================] - 2s 3ms/step - loss: -7729814240755712.0000 - accuracy: 0.0000e+00 - val_loss: -7814836876476416.0000 - val_accuracy: 0.0000e+00\n",
            "Epoch 36/100\n",
            "800/800 [==============================] - 2s 3ms/step - loss: -7892860326117376.0000 - accuracy: 0.0000e+00 - val_loss: -7979097363841024.0000 - val_accuracy: 0.0000e+00\n",
            "Epoch 37/100\n",
            "800/800 [==============================] - 2s 3ms/step - loss: -8094575075786752.0000 - accuracy: 0.0000e+00 - val_loss: -8145611635294208.0000 - val_accuracy: 0.0000e+00\n",
            "Epoch 38/100\n",
            "800/800 [==============================] - 2s 3ms/step - loss: -8267631656173568.0000 - accuracy: 0.0000e+00 - val_loss: -8314233125076992.0000 - val_accuracy: 0.0000e+00\n",
            "Epoch 39/100\n",
            "800/800 [==============================] - 2s 3ms/step - loss: -8353949224534016.0000 - accuracy: 0.0000e+00 - val_loss: -8483361421000704.0000 - val_accuracy: 0.0000e+00\n",
            "Epoch 40/100\n",
            "800/800 [==============================] - 2s 3ms/step - loss: -8601126739902464.0000 - accuracy: 0.0000e+00 - val_loss: -8656707374809088.0000 - val_accuracy: 0.0000e+00\n",
            "Epoch 41/100\n",
            "800/800 [==============================] - 2s 3ms/step - loss: -8797538815574016.0000 - accuracy: 0.0000e+00 - val_loss: -8832034382282752.0000 - val_accuracy: 0.0000e+00\n",
            "Epoch 42/100\n",
            "800/800 [==============================] - 3s 3ms/step - loss: -8881776009150464.0000 - accuracy: 0.0000e+00 - val_loss: -9008704640778240.0000 - val_accuracy: 0.0000e+00\n",
            "Epoch 43/100\n",
            "800/800 [==============================] - 3s 3ms/step - loss: -9115811461464064.0000 - accuracy: 0.0000e+00 - val_loss: -9188807651885056.0000 - val_accuracy: 0.0000e+00\n",
            "Epoch 44/100\n",
            "800/800 [==============================] - 3s 3ms/step - loss: -9213294334181376.0000 - accuracy: 0.0000e+00 - val_loss: -9370093926481920.0000 - val_accuracy: 0.0000e+00\n",
            "Epoch 45/100\n",
            "800/800 [==============================] - 3s 3ms/step - loss: -9413062926794752.0000 - accuracy: 0.0000e+00 - val_loss: -9554385604444160.0000 - val_accuracy: 0.0000e+00\n",
            "Epoch 46/100\n",
            "800/800 [==============================] - 3s 3ms/step - loss: -9598343520976896.0000 - accuracy: 0.0000e+00 - val_loss: -9741387406770176.0000 - val_accuracy: 0.0000e+00\n",
            "Epoch 47/100\n",
            "800/800 [==============================] - 2s 3ms/step - loss: -9784595851509760.0000 - accuracy: 0.0000e+00 - val_loss: -9930956525797376.0000 - val_accuracy: 0.0000e+00\n",
            "Epoch 48/100\n",
            "800/800 [==============================] - 3s 3ms/step - loss: -9983054479097856.0000 - accuracy: 0.0000e+00 - val_loss: -10122437979013120.0000 - val_accuracy: 0.0000e+00\n",
            "Epoch 49/100\n",
            "800/800 [==============================] - 3s 3ms/step - loss: -10187702154559488.0000 - accuracy: 0.0000e+00 - val_loss: -10316597344337920.0000 - val_accuracy: 0.0000e+00\n",
            "Epoch 50/100\n",
            "800/800 [==============================] - 3s 3ms/step - loss: -10420627894697984.0000 - accuracy: 0.0000e+00 - val_loss: -10513284297916416.0000 - val_accuracy: 0.0000e+00\n",
            "Epoch 51/100\n",
            "800/800 [==============================] - 3s 3ms/step - loss: -10549121505034240.0000 - accuracy: 0.0000e+00 - val_loss: -10711678500995072.0000 - val_accuracy: 0.0000e+00\n",
            "Epoch 52/100\n",
            "800/800 [==============================] - 2s 3ms/step - loss: -10779203976822784.0000 - accuracy: 0.0000e+00 - val_loss: -10912952479645696.0000 - val_accuracy: 0.0000e+00\n",
            "Epoch 53/100\n",
            "800/800 [==============================] - 2s 3ms/step - loss: -10961224690827264.0000 - accuracy: 0.0000e+00 - val_loss: -11116731497971712.0000 - val_accuracy: 0.0000e+00\n",
            "Epoch 54/100\n",
            "800/800 [==============================] - 3s 3ms/step - loss: -11180170312417280.0000 - accuracy: 0.0000e+00 - val_loss: -11322902813081600.0000 - val_accuracy: 0.0000e+00\n",
            "Epoch 55/100\n",
            "800/800 [==============================] - 3s 3ms/step - loss: -11385017703858176.0000 - accuracy: 0.0000e+00 - val_loss: -11532203011866624.0000 - val_accuracy: 0.0000e+00\n",
            "Epoch 56/100\n",
            "800/800 [==============================] - 2s 3ms/step - loss: -11599117528596480.0000 - accuracy: 0.0000e+00 - val_loss: -11743315686850560.0000 - val_accuracy: 0.0000e+00\n",
            "Epoch 57/100\n",
            "800/800 [==============================] - 2s 3ms/step - loss: -11918571827363840.0000 - accuracy: 0.0000e+00 - val_loss: -11958368994328576.0000 - val_accuracy: 0.0000e+00\n",
            "Epoch 58/100\n",
            "800/800 [==============================] - 2s 3ms/step - loss: -12073772618088448.0000 - accuracy: 0.0000e+00 - val_loss: -12175140288724992.0000 - val_accuracy: 0.0000e+00\n",
            "Epoch 59/100\n",
            "800/800 [==============================] - 2s 3ms/step - loss: -12200360336687104.0000 - accuracy: 0.0000e+00 - val_loss: -12393151754928128.0000 - val_accuracy: 0.0000e+00\n",
            "Epoch 60/100\n",
            "800/800 [==============================] - 2s 3ms/step - loss: -12468854848487424.0000 - accuracy: 0.0000e+00 - val_loss: -12615569857576960.0000 - val_accuracy: 0.0000e+00\n",
            "Epoch 61/100\n",
            "800/800 [==============================] - 3s 3ms/step - loss: -12750874212302848.0000 - accuracy: 0.0000e+00 - val_loss: -12841043829456896.0000 - val_accuracy: 0.0000e+00\n",
            "Epoch 62/100\n",
            "800/800 [==============================] - 3s 3ms/step - loss: -12882217533440000.0000 - accuracy: 0.0000e+00 - val_loss: -13067757973143552.0000 - val_accuracy: 0.0000e+00\n",
            "Epoch 63/100\n",
            "800/800 [==============================] - 3s 3ms/step - loss: -13182684855533568.0000 - accuracy: 0.0000e+00 - val_loss: -13297960704016384.0000 - val_accuracy: 0.0000e+00\n",
            "Epoch 64/100\n",
            "800/800 [==============================] - 3s 3ms/step - loss: -13387352932089856.0000 - accuracy: 0.0000e+00 - val_loss: -13530252936478720.0000 - val_accuracy: 0.0000e+00\n",
            "Epoch 65/100\n",
            "800/800 [==============================] - 3s 3ms/step - loss: -13574392315379712.0000 - accuracy: 0.0000e+00 - val_loss: -13764826870317056.0000 - val_accuracy: 0.0000e+00\n",
            "Epoch 66/100\n",
            "800/800 [==============================] - 3s 3ms/step - loss: -13904353177894912.0000 - accuracy: 0.0000e+00 - val_loss: -14003867570143232.0000 - val_accuracy: 0.0000e+00\n",
            "Epoch 67/100\n",
            "800/800 [==============================] - 2s 3ms/step - loss: -14088847793061888.0000 - accuracy: 0.0000e+00 - val_loss: -14243664184213504.0000 - val_accuracy: 0.0000e+00\n",
            "Epoch 68/100\n",
            "800/800 [==============================] - 2s 3ms/step - loss: -14292696604606464.0000 - accuracy: 0.0000e+00 - val_loss: -14486453316747264.0000 - val_accuracy: 0.0000e+00\n",
            "Epoch 69/100\n",
            "800/800 [==============================] - 2s 3ms/step - loss: -14552477701505024.0000 - accuracy: 0.0000e+00 - val_loss: -14732219935358976.0000 - val_accuracy: 0.0000e+00\n",
            "Epoch 70/100\n",
            "800/800 [==============================] - 2s 3ms/step - loss: -14814347226251264.0000 - accuracy: 0.0000e+00 - val_loss: -14980606484021248.0000 - val_accuracy: 0.0000e+00\n",
            "Epoch 71/100\n",
            "800/800 [==============================] - 2s 3ms/step - loss: -15056569423101952.0000 - accuracy: 0.0000e+00 - val_loss: -15232276535181312.0000 - val_accuracy: 0.0000e+00\n",
            "Epoch 72/100\n",
            "800/800 [==============================] - 2s 3ms/step - loss: -15274005363687424.0000 - accuracy: 0.0000e+00 - val_loss: -15485789127311360.0000 - val_accuracy: 0.0000e+00\n",
            "Epoch 73/100\n",
            "800/800 [==============================] - 3s 3ms/step - loss: -15573989501960192.0000 - accuracy: 0.0000e+00 - val_loss: -15742709775990784.0000 - val_accuracy: 0.0000e+00\n",
            "Epoch 74/100\n",
            "800/800 [==============================] - 3s 3ms/step - loss: -15862693982371840.0000 - accuracy: 0.0000e+00 - val_loss: -16003086799601664.0000 - val_accuracy: 0.0000e+00\n",
            "Epoch 75/100\n",
            "800/800 [==============================] - 2s 3ms/step - loss: -16246953968926720.0000 - accuracy: 0.0000e+00 - val_loss: -16268234458136576.0000 - val_accuracy: 0.0000e+00\n",
            "Epoch 76/100\n",
            "800/800 [==============================] - 2s 3ms/step - loss: -16455064461770752.0000 - accuracy: 0.0000e+00 - val_loss: -16533736451473408.0000 - val_accuracy: 0.0000e+00\n",
            "Epoch 77/100\n",
            "800/800 [==============================] - 3s 3ms/step - loss: -16680554539778048.0000 - accuracy: 0.0000e+00 - val_loss: -16801932463046656.0000 - val_accuracy: 0.0000e+00\n",
            "Epoch 78/100\n",
            "800/800 [==============================] - 2s 3ms/step - loss: -16836141877559296.0000 - accuracy: 0.0000e+00 - val_loss: -17071454545772544.0000 - val_accuracy: 0.0000e+00\n",
            "Epoch 79/100\n",
            "800/800 [==============================] - 3s 3ms/step - loss: -17158354619072512.0000 - accuracy: 0.0000e+00 - val_loss: -17345221129928704.0000 - val_accuracy: 0.0000e+00\n",
            "Epoch 80/100\n",
            "800/800 [==============================] - 2s 3ms/step - loss: -17546606777729024.0000 - accuracy: 0.0000e+00 - val_loss: -17623267648995328.0000 - val_accuracy: 0.0000e+00\n",
            "Epoch 81/100\n",
            "800/800 [==============================] - 2s 3ms/step - loss: -17832746088923136.0000 - accuracy: 0.0000e+00 - val_loss: -17904626661588992.0000 - val_accuracy: 0.0000e+00\n",
            "Epoch 82/100\n",
            "800/800 [==============================] - 2s 3ms/step - loss: -17992624099033088.0000 - accuracy: 0.0000e+00 - val_loss: -18185720459952128.0000 - val_accuracy: 0.0000e+00\n",
            "Epoch 83/100\n",
            "800/800 [==============================] - 3s 3ms/step - loss: -18234133331312640.0000 - accuracy: 0.0000e+00 - val_loss: -18471026547490816.0000 - val_accuracy: 0.0000e+00\n",
            "Epoch 84/100\n",
            "800/800 [==============================] - 2s 3ms/step - loss: -18511261801119744.0000 - accuracy: 0.0000e+00 - val_loss: -18759345554587648.0000 - val_accuracy: 0.0000e+00\n",
            "Epoch 85/100\n",
            "800/800 [==============================] - 3s 3ms/step - loss: -18897188234985472.0000 - accuracy: 0.0000e+00 - val_loss: -19052172129861632.0000 - val_accuracy: 0.0000e+00\n",
            "Epoch 86/100\n",
            "800/800 [==============================] - 2s 3ms/step - loss: -19236574403231744.0000 - accuracy: 0.0000e+00 - val_loss: -19347599307833344.0000 - val_accuracy: 0.0000e+00\n",
            "Epoch 87/100\n",
            "800/800 [==============================] - 2s 3ms/step - loss: -19354529237565440.0000 - accuracy: 0.0000e+00 - val_loss: -19643926281453568.0000 - val_accuracy: 0.0000e+00\n",
            "Epoch 88/100\n",
            "800/800 [==============================] - 2s 3ms/step - loss: -19698944812515328.0000 - accuracy: 0.0000e+00 - val_loss: -19945609079291904.0000 - val_accuracy: 0.0000e+00\n",
            "Epoch 89/100\n",
            "800/800 [==============================] - 3s 3ms/step - loss: -20023451066564608.0000 - accuracy: 0.0000e+00 - val_loss: -20249413590974464.0000 - val_accuracy: 0.0000e+00\n",
            "Epoch 90/100\n",
            "800/800 [==============================] - 3s 4ms/step - loss: -20236608145981440.0000 - accuracy: 0.0000e+00 - val_loss: -20555256064638976.0000 - val_accuracy: 0.0000e+00\n",
            "Epoch 91/100\n",
            "800/800 [==============================] - 4s 5ms/step - loss: -20690438012796928.0000 - accuracy: 0.0000e+00 - val_loss: -20866289006280704.0000 - val_accuracy: 0.0000e+00\n",
            "Epoch 92/100\n",
            "800/800 [==============================] - 4s 5ms/step - loss: -20963138371321856.0000 - accuracy: 0.0000e+00 - val_loss: -21179636935294976.0000 - val_accuracy: 0.0000e+00\n",
            "Epoch 93/100\n",
            "800/800 [==============================] - 3s 3ms/step - loss: -21301549581991936.0000 - accuracy: 0.0000e+00 - val_loss: -21496805237719040.0000 - val_accuracy: 0.0000e+00\n",
            "Epoch 94/100\n",
            "800/800 [==============================] - 4s 4ms/step - loss: -21520333068566528.0000 - accuracy: 0.0000e+00 - val_loss: -21814757371674624.0000 - val_accuracy: 0.0000e+00\n",
            "Epoch 95/100\n",
            "800/800 [==============================] - 4s 5ms/step - loss: -21735762185682944.0000 - accuracy: 0.0000e+00 - val_loss: -22135642968293376.0000 - val_accuracy: 0.0000e+00\n",
            "Epoch 96/100\n",
            "800/800 [==============================] - 3s 3ms/step - loss: -22409771403444224.0000 - accuracy: 0.0000e+00 - val_loss: -22464386207580160.0000 - val_accuracy: 0.0000e+00\n",
            "Epoch 97/100\n",
            "800/800 [==============================] - 3s 4ms/step - loss: -22594476472008704.0000 - accuracy: 0.0000e+00 - val_loss: -22792276895858688.0000 - val_accuracy: 0.0000e+00\n",
            "Epoch 98/100\n",
            "800/800 [==============================] - 4s 5ms/step - loss: -22844177280663552.0000 - accuracy: 0.0000e+00 - val_loss: -23123408136962048.0000 - val_accuracy: 0.0000e+00\n",
            "Epoch 99/100\n",
            "800/800 [==============================] - 4s 5ms/step - loss: -23173992114290688.0000 - accuracy: 0.0000e+00 - val_loss: -23459373363757056.0000 - val_accuracy: 0.0000e+00\n",
            "Epoch 100/100\n",
            "800/800 [==============================] - 4s 5ms/step - loss: -23692976634986496.0000 - accuracy: 0.0000e+00 - val_loss: -23798744499617792.0000 - val_accuracy: 0.0000e+00\n"
          ]
        }
      ]
    },
    {
      "cell_type": "code",
      "source": [
        "## Prediction\n",
        "\n",
        "y_pred=regressor.predict(X_test)"
      ],
      "metadata": {
        "id": "y0pa_zNtQ6Hn"
      },
      "execution_count": 81,
      "outputs": []
    },
    {
      "cell_type": "code",
      "source": [
        "## Calculating R2\n",
        "\n",
        "from sklearn.metrics import r2_score\n",
        "print(r2_score(y_pred,y_test))"
      ],
      "metadata": {
        "colab": {
          "base_uri": "https://localhost:8080/"
        },
        "id": "x0gIakKTS-YZ",
        "outputId": "8efe1a20-b80f-4035-858a-6a73dcebeb19"
      },
      "execution_count": 83,
      "outputs": [
        {
          "output_type": "stream",
          "name": "stdout",
          "text": [
            "-1232815871920.5898\n"
          ]
        }
      ]
    },
    {
      "cell_type": "markdown",
      "source": [
        "**We got very poor accuracy. Will try again with different parameters**"
      ],
      "metadata": {
        "id": "liye6bMmTWYA"
      }
    },
    {
      "cell_type": "code",
      "source": [
        "from google.colab import drive\n",
        "drive.mount('/content/drive')"
      ],
      "metadata": {
        "colab": {
          "base_uri": "https://localhost:8080/"
        },
        "id": "L0E5spLkp2BG",
        "outputId": "0b80bf23-653b-46d3-cb05-e1fa8d6fba54"
      },
      "execution_count": 1,
      "outputs": [
        {
          "output_type": "stream",
          "name": "stdout",
          "text": [
            "Drive already mounted at /content/drive; to attempt to forcibly remount, call drive.mount(\"/content/drive\", force_remount=True).\n"
          ]
        }
      ]
    },
    {
      "cell_type": "code",
      "source": [
        "import pandas as pd\n",
        "\n",
        "df=pd.read_csv('/content/drive/MyDrive/Deep Learning Practice/Churn_Modelling.csv')"
      ],
      "metadata": {
        "id": "i6Ck-rg0qis-"
      },
      "execution_count": 2,
      "outputs": []
    },
    {
      "cell_type": "code",
      "source": [
        "df.head()"
      ],
      "metadata": {
        "colab": {
          "base_uri": "https://localhost:8080/",
          "height": 206
        },
        "id": "EteDfFj6qmtT",
        "outputId": "e42b1983-0572-465f-995b-fbf0893cca4a"
      },
      "execution_count": 3,
      "outputs": [
        {
          "output_type": "execute_result",
          "data": {
            "text/plain": [
              "   RowNumber  CustomerId   Surname  CreditScore Geography  Gender  Age  \\\n",
              "0          1    15634602  Hargrave          619    France  Female   42   \n",
              "1          2    15647311      Hill          608     Spain  Female   41   \n",
              "2          3    15619304      Onio          502    France  Female   42   \n",
              "3          4    15701354      Boni          699    France  Female   39   \n",
              "4          5    15737888  Mitchell          850     Spain  Female   43   \n",
              "\n",
              "   Tenure    Balance  NumOfProducts  HasCrCard  IsActiveMember  \\\n",
              "0       2       0.00              1          1               1   \n",
              "1       1   83807.86              1          0               1   \n",
              "2       8  159660.80              3          1               0   \n",
              "3       1       0.00              2          0               0   \n",
              "4       2  125510.82              1          1               1   \n",
              "\n",
              "   EstimatedSalary  Exited  \n",
              "0        101348.88       1  \n",
              "1        112542.58       0  \n",
              "2        113931.57       1  \n",
              "3         93826.63       0  \n",
              "4         79084.10       0  "
            ],
            "text/html": [
              "\n",
              "  <div id=\"df-599bfeb4-dcd3-48bb-a299-6b32edecf533\">\n",
              "    <div class=\"colab-df-container\">\n",
              "      <div>\n",
              "<style scoped>\n",
              "    .dataframe tbody tr th:only-of-type {\n",
              "        vertical-align: middle;\n",
              "    }\n",
              "\n",
              "    .dataframe tbody tr th {\n",
              "        vertical-align: top;\n",
              "    }\n",
              "\n",
              "    .dataframe thead th {\n",
              "        text-align: right;\n",
              "    }\n",
              "</style>\n",
              "<table border=\"1\" class=\"dataframe\">\n",
              "  <thead>\n",
              "    <tr style=\"text-align: right;\">\n",
              "      <th></th>\n",
              "      <th>RowNumber</th>\n",
              "      <th>CustomerId</th>\n",
              "      <th>Surname</th>\n",
              "      <th>CreditScore</th>\n",
              "      <th>Geography</th>\n",
              "      <th>Gender</th>\n",
              "      <th>Age</th>\n",
              "      <th>Tenure</th>\n",
              "      <th>Balance</th>\n",
              "      <th>NumOfProducts</th>\n",
              "      <th>HasCrCard</th>\n",
              "      <th>IsActiveMember</th>\n",
              "      <th>EstimatedSalary</th>\n",
              "      <th>Exited</th>\n",
              "    </tr>\n",
              "  </thead>\n",
              "  <tbody>\n",
              "    <tr>\n",
              "      <th>0</th>\n",
              "      <td>1</td>\n",
              "      <td>15634602</td>\n",
              "      <td>Hargrave</td>\n",
              "      <td>619</td>\n",
              "      <td>France</td>\n",
              "      <td>Female</td>\n",
              "      <td>42</td>\n",
              "      <td>2</td>\n",
              "      <td>0.00</td>\n",
              "      <td>1</td>\n",
              "      <td>1</td>\n",
              "      <td>1</td>\n",
              "      <td>101348.88</td>\n",
              "      <td>1</td>\n",
              "    </tr>\n",
              "    <tr>\n",
              "      <th>1</th>\n",
              "      <td>2</td>\n",
              "      <td>15647311</td>\n",
              "      <td>Hill</td>\n",
              "      <td>608</td>\n",
              "      <td>Spain</td>\n",
              "      <td>Female</td>\n",
              "      <td>41</td>\n",
              "      <td>1</td>\n",
              "      <td>83807.86</td>\n",
              "      <td>1</td>\n",
              "      <td>0</td>\n",
              "      <td>1</td>\n",
              "      <td>112542.58</td>\n",
              "      <td>0</td>\n",
              "    </tr>\n",
              "    <tr>\n",
              "      <th>2</th>\n",
              "      <td>3</td>\n",
              "      <td>15619304</td>\n",
              "      <td>Onio</td>\n",
              "      <td>502</td>\n",
              "      <td>France</td>\n",
              "      <td>Female</td>\n",
              "      <td>42</td>\n",
              "      <td>8</td>\n",
              "      <td>159660.80</td>\n",
              "      <td>3</td>\n",
              "      <td>1</td>\n",
              "      <td>0</td>\n",
              "      <td>113931.57</td>\n",
              "      <td>1</td>\n",
              "    </tr>\n",
              "    <tr>\n",
              "      <th>3</th>\n",
              "      <td>4</td>\n",
              "      <td>15701354</td>\n",
              "      <td>Boni</td>\n",
              "      <td>699</td>\n",
              "      <td>France</td>\n",
              "      <td>Female</td>\n",
              "      <td>39</td>\n",
              "      <td>1</td>\n",
              "      <td>0.00</td>\n",
              "      <td>2</td>\n",
              "      <td>0</td>\n",
              "      <td>0</td>\n",
              "      <td>93826.63</td>\n",
              "      <td>0</td>\n",
              "    </tr>\n",
              "    <tr>\n",
              "      <th>4</th>\n",
              "      <td>5</td>\n",
              "      <td>15737888</td>\n",
              "      <td>Mitchell</td>\n",
              "      <td>850</td>\n",
              "      <td>Spain</td>\n",
              "      <td>Female</td>\n",
              "      <td>43</td>\n",
              "      <td>2</td>\n",
              "      <td>125510.82</td>\n",
              "      <td>1</td>\n",
              "      <td>1</td>\n",
              "      <td>1</td>\n",
              "      <td>79084.10</td>\n",
              "      <td>0</td>\n",
              "    </tr>\n",
              "  </tbody>\n",
              "</table>\n",
              "</div>\n",
              "      <button class=\"colab-df-convert\" onclick=\"convertToInteractive('df-599bfeb4-dcd3-48bb-a299-6b32edecf533')\"\n",
              "              title=\"Convert this dataframe to an interactive table.\"\n",
              "              style=\"display:none;\">\n",
              "        \n",
              "  <svg xmlns=\"http://www.w3.org/2000/svg\" height=\"24px\"viewBox=\"0 0 24 24\"\n",
              "       width=\"24px\">\n",
              "    <path d=\"M0 0h24v24H0V0z\" fill=\"none\"/>\n",
              "    <path d=\"M18.56 5.44l.94 2.06.94-2.06 2.06-.94-2.06-.94-.94-2.06-.94 2.06-2.06.94zm-11 1L8.5 8.5l.94-2.06 2.06-.94-2.06-.94L8.5 2.5l-.94 2.06-2.06.94zm10 10l.94 2.06.94-2.06 2.06-.94-2.06-.94-.94-2.06-.94 2.06-2.06.94z\"/><path d=\"M17.41 7.96l-1.37-1.37c-.4-.4-.92-.59-1.43-.59-.52 0-1.04.2-1.43.59L10.3 9.45l-7.72 7.72c-.78.78-.78 2.05 0 2.83L4 21.41c.39.39.9.59 1.41.59.51 0 1.02-.2 1.41-.59l7.78-7.78 2.81-2.81c.8-.78.8-2.07 0-2.86zM5.41 20L4 18.59l7.72-7.72 1.47 1.35L5.41 20z\"/>\n",
              "  </svg>\n",
              "      </button>\n",
              "      \n",
              "  <style>\n",
              "    .colab-df-container {\n",
              "      display:flex;\n",
              "      flex-wrap:wrap;\n",
              "      gap: 12px;\n",
              "    }\n",
              "\n",
              "    .colab-df-convert {\n",
              "      background-color: #E8F0FE;\n",
              "      border: none;\n",
              "      border-radius: 50%;\n",
              "      cursor: pointer;\n",
              "      display: none;\n",
              "      fill: #1967D2;\n",
              "      height: 32px;\n",
              "      padding: 0 0 0 0;\n",
              "      width: 32px;\n",
              "    }\n",
              "\n",
              "    .colab-df-convert:hover {\n",
              "      background-color: #E2EBFA;\n",
              "      box-shadow: 0px 1px 2px rgba(60, 64, 67, 0.3), 0px 1px 3px 1px rgba(60, 64, 67, 0.15);\n",
              "      fill: #174EA6;\n",
              "    }\n",
              "\n",
              "    [theme=dark] .colab-df-convert {\n",
              "      background-color: #3B4455;\n",
              "      fill: #D2E3FC;\n",
              "    }\n",
              "\n",
              "    [theme=dark] .colab-df-convert:hover {\n",
              "      background-color: #434B5C;\n",
              "      box-shadow: 0px 1px 3px 1px rgba(0, 0, 0, 0.15);\n",
              "      filter: drop-shadow(0px 1px 2px rgba(0, 0, 0, 0.3));\n",
              "      fill: #FFFFFF;\n",
              "    }\n",
              "  </style>\n",
              "\n",
              "      <script>\n",
              "        const buttonEl =\n",
              "          document.querySelector('#df-599bfeb4-dcd3-48bb-a299-6b32edecf533 button.colab-df-convert');\n",
              "        buttonEl.style.display =\n",
              "          google.colab.kernel.accessAllowed ? 'block' : 'none';\n",
              "\n",
              "        async function convertToInteractive(key) {\n",
              "          const element = document.querySelector('#df-599bfeb4-dcd3-48bb-a299-6b32edecf533');\n",
              "          const dataTable =\n",
              "            await google.colab.kernel.invokeFunction('convertToInteractive',\n",
              "                                                     [key], {});\n",
              "          if (!dataTable) return;\n",
              "\n",
              "          const docLinkHtml = 'Like what you see? Visit the ' +\n",
              "            '<a target=\"_blank\" href=https://colab.research.google.com/notebooks/data_table.ipynb>data table notebook</a>'\n",
              "            + ' to learn more about interactive tables.';\n",
              "          element.innerHTML = '';\n",
              "          dataTable['output_type'] = 'display_data';\n",
              "          await google.colab.output.renderOutput(dataTable, element);\n",
              "          const docLink = document.createElement('div');\n",
              "          docLink.innerHTML = docLinkHtml;\n",
              "          element.appendChild(docLink);\n",
              "        }\n",
              "      </script>\n",
              "    </div>\n",
              "  </div>\n",
              "  "
            ]
          },
          "metadata": {},
          "execution_count": 3
        }
      ]
    },
    {
      "cell_type": "code",
      "source": [
        "df.columns"
      ],
      "metadata": {
        "colab": {
          "base_uri": "https://localhost:8080/"
        },
        "id": "cgjW2bEPrYZl",
        "outputId": "cf8984ec-e6b2-4501-86bd-3c56f00b2074"
      },
      "execution_count": 4,
      "outputs": [
        {
          "output_type": "execute_result",
          "data": {
            "text/plain": [
              "Index(['RowNumber', 'CustomerId', 'Surname', 'CreditScore', 'Geography',\n",
              "       'Gender', 'Age', 'Tenure', 'Balance', 'NumOfProducts', 'HasCrCard',\n",
              "       'IsActiveMember', 'EstimatedSalary', 'Exited'],\n",
              "      dtype='object')"
            ]
          },
          "metadata": {},
          "execution_count": 4
        }
      ]
    },
    {
      "cell_type": "code",
      "source": [
        "X=df[['CreditScore', 'Geography',\n",
        "       'Gender', 'Age', 'Tenure', 'Balance', 'NumOfProducts', 'HasCrCard',\n",
        "       'IsActiveMember', 'Exited']]\n",
        "\n",
        "y=df['EstimatedSalary']"
      ],
      "metadata": {
        "id": "k32Bh3Oxrah1"
      },
      "execution_count": 5,
      "outputs": []
    },
    {
      "cell_type": "code",
      "source": [
        "## Ferature Engineering \n",
        "geography=pd.get_dummies(X['Geography'],drop_first=True)\n",
        "gender=pd.get_dummies(X['Gender'],drop_first=True)"
      ],
      "metadata": {
        "id": "1pycvd8esZOp"
      },
      "execution_count": 6,
      "outputs": []
    },
    {
      "cell_type": "code",
      "source": [
        "## Concatenate these variables with dataframe\n",
        "X=X.drop(['Geography','Gender'],axis=1)\n",
        "X=pd.concat([X,geography,gender],axis=1) "
      ],
      "metadata": {
        "id": "Iw7LtEJTsaUH"
      },
      "execution_count": 7,
      "outputs": []
    },
    {
      "cell_type": "code",
      "source": [
        "#Splitting the dataset into Training set and Test Set\n",
        "\n",
        "from sklearn.model_selection import train_test_split\n",
        "\n",
        "X_train,X_test,y_train,y_test=train_test_split(X,y,test_size=0.2,random_state=0)"
      ],
      "metadata": {
        "id": "f1Hh1qFFr3Xk"
      },
      "execution_count": 8,
      "outputs": []
    },
    {
      "cell_type": "code",
      "source": [
        "# Feature Scaling\n",
        "\n",
        "from sklearn.preprocessing import StandardScaler\n",
        "sc =StandardScaler()\n",
        "X_train=sc.fit_transform(X_train)\n",
        "X_test=sc.transform(X_test)"
      ],
      "metadata": {
        "id": "D-fcxpPAsI00"
      },
      "execution_count": 9,
      "outputs": []
    },
    {
      "cell_type": "code",
      "source": [
        "X.head(3)"
      ],
      "metadata": {
        "colab": {
          "base_uri": "https://localhost:8080/",
          "height": 144
        },
        "id": "eLLXlhCBsO_U",
        "outputId": "40045ccf-9da1-4362-e1d2-4faa43047b3f"
      },
      "execution_count": 10,
      "outputs": [
        {
          "output_type": "execute_result",
          "data": {
            "text/plain": [
              "   CreditScore  Age  Tenure    Balance  NumOfProducts  HasCrCard  \\\n",
              "0          619   42       2       0.00              1          1   \n",
              "1          608   41       1   83807.86              1          0   \n",
              "2          502   42       8  159660.80              3          1   \n",
              "\n",
              "   IsActiveMember  Exited  Germany  Spain  Male  \n",
              "0               1       1        0      0     0  \n",
              "1               1       0        0      1     0  \n",
              "2               0       1        0      0     0  "
            ],
            "text/html": [
              "\n",
              "  <div id=\"df-f6a583a1-5070-447b-bf48-665f113f0b97\">\n",
              "    <div class=\"colab-df-container\">\n",
              "      <div>\n",
              "<style scoped>\n",
              "    .dataframe tbody tr th:only-of-type {\n",
              "        vertical-align: middle;\n",
              "    }\n",
              "\n",
              "    .dataframe tbody tr th {\n",
              "        vertical-align: top;\n",
              "    }\n",
              "\n",
              "    .dataframe thead th {\n",
              "        text-align: right;\n",
              "    }\n",
              "</style>\n",
              "<table border=\"1\" class=\"dataframe\">\n",
              "  <thead>\n",
              "    <tr style=\"text-align: right;\">\n",
              "      <th></th>\n",
              "      <th>CreditScore</th>\n",
              "      <th>Age</th>\n",
              "      <th>Tenure</th>\n",
              "      <th>Balance</th>\n",
              "      <th>NumOfProducts</th>\n",
              "      <th>HasCrCard</th>\n",
              "      <th>IsActiveMember</th>\n",
              "      <th>Exited</th>\n",
              "      <th>Germany</th>\n",
              "      <th>Spain</th>\n",
              "      <th>Male</th>\n",
              "    </tr>\n",
              "  </thead>\n",
              "  <tbody>\n",
              "    <tr>\n",
              "      <th>0</th>\n",
              "      <td>619</td>\n",
              "      <td>42</td>\n",
              "      <td>2</td>\n",
              "      <td>0.00</td>\n",
              "      <td>1</td>\n",
              "      <td>1</td>\n",
              "      <td>1</td>\n",
              "      <td>1</td>\n",
              "      <td>0</td>\n",
              "      <td>0</td>\n",
              "      <td>0</td>\n",
              "    </tr>\n",
              "    <tr>\n",
              "      <th>1</th>\n",
              "      <td>608</td>\n",
              "      <td>41</td>\n",
              "      <td>1</td>\n",
              "      <td>83807.86</td>\n",
              "      <td>1</td>\n",
              "      <td>0</td>\n",
              "      <td>1</td>\n",
              "      <td>0</td>\n",
              "      <td>0</td>\n",
              "      <td>1</td>\n",
              "      <td>0</td>\n",
              "    </tr>\n",
              "    <tr>\n",
              "      <th>2</th>\n",
              "      <td>502</td>\n",
              "      <td>42</td>\n",
              "      <td>8</td>\n",
              "      <td>159660.80</td>\n",
              "      <td>3</td>\n",
              "      <td>1</td>\n",
              "      <td>0</td>\n",
              "      <td>1</td>\n",
              "      <td>0</td>\n",
              "      <td>0</td>\n",
              "      <td>0</td>\n",
              "    </tr>\n",
              "  </tbody>\n",
              "</table>\n",
              "</div>\n",
              "      <button class=\"colab-df-convert\" onclick=\"convertToInteractive('df-f6a583a1-5070-447b-bf48-665f113f0b97')\"\n",
              "              title=\"Convert this dataframe to an interactive table.\"\n",
              "              style=\"display:none;\">\n",
              "        \n",
              "  <svg xmlns=\"http://www.w3.org/2000/svg\" height=\"24px\"viewBox=\"0 0 24 24\"\n",
              "       width=\"24px\">\n",
              "    <path d=\"M0 0h24v24H0V0z\" fill=\"none\"/>\n",
              "    <path d=\"M18.56 5.44l.94 2.06.94-2.06 2.06-.94-2.06-.94-.94-2.06-.94 2.06-2.06.94zm-11 1L8.5 8.5l.94-2.06 2.06-.94-2.06-.94L8.5 2.5l-.94 2.06-2.06.94zm10 10l.94 2.06.94-2.06 2.06-.94-2.06-.94-.94-2.06-.94 2.06-2.06.94z\"/><path d=\"M17.41 7.96l-1.37-1.37c-.4-.4-.92-.59-1.43-.59-.52 0-1.04.2-1.43.59L10.3 9.45l-7.72 7.72c-.78.78-.78 2.05 0 2.83L4 21.41c.39.39.9.59 1.41.59.51 0 1.02-.2 1.41-.59l7.78-7.78 2.81-2.81c.8-.78.8-2.07 0-2.86zM5.41 20L4 18.59l7.72-7.72 1.47 1.35L5.41 20z\"/>\n",
              "  </svg>\n",
              "      </button>\n",
              "      \n",
              "  <style>\n",
              "    .colab-df-container {\n",
              "      display:flex;\n",
              "      flex-wrap:wrap;\n",
              "      gap: 12px;\n",
              "    }\n",
              "\n",
              "    .colab-df-convert {\n",
              "      background-color: #E8F0FE;\n",
              "      border: none;\n",
              "      border-radius: 50%;\n",
              "      cursor: pointer;\n",
              "      display: none;\n",
              "      fill: #1967D2;\n",
              "      height: 32px;\n",
              "      padding: 0 0 0 0;\n",
              "      width: 32px;\n",
              "    }\n",
              "\n",
              "    .colab-df-convert:hover {\n",
              "      background-color: #E2EBFA;\n",
              "      box-shadow: 0px 1px 2px rgba(60, 64, 67, 0.3), 0px 1px 3px 1px rgba(60, 64, 67, 0.15);\n",
              "      fill: #174EA6;\n",
              "    }\n",
              "\n",
              "    [theme=dark] .colab-df-convert {\n",
              "      background-color: #3B4455;\n",
              "      fill: #D2E3FC;\n",
              "    }\n",
              "\n",
              "    [theme=dark] .colab-df-convert:hover {\n",
              "      background-color: #434B5C;\n",
              "      box-shadow: 0px 1px 3px 1px rgba(0, 0, 0, 0.15);\n",
              "      filter: drop-shadow(0px 1px 2px rgba(0, 0, 0, 0.3));\n",
              "      fill: #FFFFFF;\n",
              "    }\n",
              "  </style>\n",
              "\n",
              "      <script>\n",
              "        const buttonEl =\n",
              "          document.querySelector('#df-f6a583a1-5070-447b-bf48-665f113f0b97 button.colab-df-convert');\n",
              "        buttonEl.style.display =\n",
              "          google.colab.kernel.accessAllowed ? 'block' : 'none';\n",
              "\n",
              "        async function convertToInteractive(key) {\n",
              "          const element = document.querySelector('#df-f6a583a1-5070-447b-bf48-665f113f0b97');\n",
              "          const dataTable =\n",
              "            await google.colab.kernel.invokeFunction('convertToInteractive',\n",
              "                                                     [key], {});\n",
              "          if (!dataTable) return;\n",
              "\n",
              "          const docLinkHtml = 'Like what you see? Visit the ' +\n",
              "            '<a target=\"_blank\" href=https://colab.research.google.com/notebooks/data_table.ipynb>data table notebook</a>'\n",
              "            + ' to learn more about interactive tables.';\n",
              "          element.innerHTML = '';\n",
              "          dataTable['output_type'] = 'display_data';\n",
              "          await google.colab.output.renderOutput(dataTable, element);\n",
              "          const docLink = document.createElement('div');\n",
              "          docLink.innerHTML = docLinkHtml;\n",
              "          element.appendChild(docLink);\n",
              "        }\n",
              "      </script>\n",
              "    </div>\n",
              "  </div>\n",
              "  "
            ]
          },
          "metadata": {},
          "execution_count": 10
        }
      ]
    },
    {
      "cell_type": "code",
      "source": [
        "from tensorflow.keras.models import Sequential\n",
        "from tensorflow.keras.layers import Dense\n",
        "from tensorflow.keras.layers import LeakyReLU,PReLU,ELU,ReLU\n",
        "from tensorflow.keras.layers import Dropout"
      ],
      "metadata": {
        "id": "2C5DcMqrtLXn"
      },
      "execution_count": 11,
      "outputs": []
    },
    {
      "cell_type": "code",
      "source": [
        "### Lets initialize the ANN\n",
        "regressor=Sequential()\n",
        "\n",
        "## Adding the input Layer and first hidden layer\n",
        "regressor.add(Dense(10,input_shape=(11,),activation='relu'))\n",
        "\n",
        "# adding the first hidden layer\n",
        "regressor.add(Dense(units=10,activation='relu'))\n",
        "#regressor.add(Dropout(0.2))\n",
        "\n",
        "##adding the second hidden layer\n",
        "regressor.add(Dense(units=10,activation='relu'))\n",
        "#regressor.add(Dropout(0.3))\n",
        "\n",
        "##  Adding the output layer\n",
        "regressor.add(Dense(1))"
      ],
      "metadata": {
        "id": "Ns8iY8j3smMT"
      },
      "execution_count": 12,
      "outputs": []
    },
    {
      "cell_type": "code",
      "source": [
        "regressor.summary()"
      ],
      "metadata": {
        "colab": {
          "base_uri": "https://localhost:8080/"
        },
        "id": "_2JCGExptByy",
        "outputId": "58b8a9d4-ee83-4408-9108-77135bd74f74"
      },
      "execution_count": 13,
      "outputs": [
        {
          "output_type": "stream",
          "name": "stdout",
          "text": [
            "Model: \"sequential\"\n",
            "_________________________________________________________________\n",
            " Layer (type)                Output Shape              Param #   \n",
            "=================================================================\n",
            " dense (Dense)               (None, 10)                120       \n",
            "                                                                 \n",
            " dense_1 (Dense)             (None, 10)                110       \n",
            "                                                                 \n",
            " dense_2 (Dense)             (None, 10)                110       \n",
            "                                                                 \n",
            " dense_3 (Dense)             (None, 1)                 11        \n",
            "                                                                 \n",
            "=================================================================\n",
            "Total params: 351\n",
            "Trainable params: 351\n",
            "Non-trainable params: 0\n",
            "_________________________________________________________________\n"
          ]
        }
      ]
    },
    {
      "cell_type": "code",
      "source": [
        "## Loss function\n",
        "\n",
        "import tensorflow\n",
        "metrics=tensorflow.keras.metrics.MeanSquaredError(\n",
        "    name='mean_squared_error', dtype=None\n",
        ")"
      ],
      "metadata": {
        "id": "6bQKk2DVtd69"
      },
      "execution_count": 34,
      "outputs": []
    },
    {
      "cell_type": "code",
      "source": [
        "## Optimizer\n",
        "\n",
        "import tensorflow\n",
        "opt=tensorflow.keras.optimizers.Adam(learning_rate=0.01)"
      ],
      "metadata": {
        "id": "oEmu8LXstvf8"
      },
      "execution_count": 35,
      "outputs": []
    },
    {
      "cell_type": "code",
      "source": [
        "regressor.compile(optimizer=opt,loss='mse',metrics=[metrics])"
      ],
      "metadata": {
        "id": "mV9MP8VgtRaa"
      },
      "execution_count": 36,
      "outputs": []
    },
    {
      "cell_type": "code",
      "source": [
        "## Early Stopping\n",
        "\n",
        "import tensorflow as tf\n",
        "early_stopping=tf.keras.callbacks.EarlyStopping(\n",
        "    monitor=\"val_mean_squared_error\",\n",
        "    patience=20\n",
        ")"
      ],
      "metadata": {
        "id": "RSWI4A4RuNB0"
      },
      "execution_count": 37,
      "outputs": []
    },
    {
      "cell_type": "code",
      "source": [
        "## Training\n",
        "\n",
        "model_history=regressor.fit(X_train,y_train,validation_data=(X_test,y_test),batch_size=10,epochs=100,callbacks=early_stopping)"
      ],
      "metadata": {
        "colab": {
          "base_uri": "https://localhost:8080/"
        },
        "id": "fCBbozpevF8P",
        "outputId": "ced78904-9dc6-440a-a331-a4759a291f05"
      },
      "execution_count": 38,
      "outputs": [
        {
          "output_type": "stream",
          "name": "stdout",
          "text": [
            "Epoch 1/100\n",
            "800/800 [==============================] - 5s 3ms/step - loss: 5409320448.0000 - mean_squared_error: 5409320448.0000 - val_loss: 3391980800.0000 - val_mean_squared_error: 3391980800.0000\n",
            "Epoch 2/100\n",
            "800/800 [==============================] - 2s 2ms/step - loss: 3364792320.0000 - mean_squared_error: 3364792320.0000 - val_loss: 3340367360.0000 - val_mean_squared_error: 3340367360.0000\n",
            "Epoch 3/100\n",
            "800/800 [==============================] - 2s 2ms/step - loss: 3343673344.0000 - mean_squared_error: 3343673344.0000 - val_loss: 3344683264.0000 - val_mean_squared_error: 3344683264.0000\n",
            "Epoch 4/100\n",
            "800/800 [==============================] - 2s 2ms/step - loss: 3338616320.0000 - mean_squared_error: 3338616320.0000 - val_loss: 3340147456.0000 - val_mean_squared_error: 3340147456.0000\n",
            "Epoch 5/100\n",
            "800/800 [==============================] - 2s 2ms/step - loss: 3327638528.0000 - mean_squared_error: 3327638528.0000 - val_loss: 3330590464.0000 - val_mean_squared_error: 3330590464.0000\n",
            "Epoch 6/100\n",
            "800/800 [==============================] - 2s 2ms/step - loss: 3325397760.0000 - mean_squared_error: 3325397760.0000 - val_loss: 3372625152.0000 - val_mean_squared_error: 3372625152.0000\n",
            "Epoch 7/100\n",
            "800/800 [==============================] - 2s 2ms/step - loss: 3326188032.0000 - mean_squared_error: 3326188032.0000 - val_loss: 3329944576.0000 - val_mean_squared_error: 3329944576.0000\n",
            "Epoch 8/100\n",
            "800/800 [==============================] - 2s 2ms/step - loss: 3323538176.0000 - mean_squared_error: 3323538176.0000 - val_loss: 3327223040.0000 - val_mean_squared_error: 3327223040.0000\n",
            "Epoch 9/100\n",
            "800/800 [==============================] - 2s 2ms/step - loss: 3316724992.0000 - mean_squared_error: 3316724992.0000 - val_loss: 3327864064.0000 - val_mean_squared_error: 3327864064.0000\n",
            "Epoch 10/100\n",
            "800/800 [==============================] - 2s 2ms/step - loss: 3315970560.0000 - mean_squared_error: 3315970560.0000 - val_loss: 3326204672.0000 - val_mean_squared_error: 3326204672.0000\n",
            "Epoch 11/100\n",
            "800/800 [==============================] - 2s 2ms/step - loss: 3317970944.0000 - mean_squared_error: 3317970944.0000 - val_loss: 3318629376.0000 - val_mean_squared_error: 3318629376.0000\n",
            "Epoch 12/100\n",
            "800/800 [==============================] - 2s 2ms/step - loss: 3314599424.0000 - mean_squared_error: 3314599424.0000 - val_loss: 3336308480.0000 - val_mean_squared_error: 3336308480.0000\n",
            "Epoch 13/100\n",
            "800/800 [==============================] - 2s 2ms/step - loss: 3310290688.0000 - mean_squared_error: 3310290688.0000 - val_loss: 3366903808.0000 - val_mean_squared_error: 3366903808.0000\n",
            "Epoch 14/100\n",
            "800/800 [==============================] - 2s 2ms/step - loss: 3307420416.0000 - mean_squared_error: 3307420416.0000 - val_loss: 3326657024.0000 - val_mean_squared_error: 3326657024.0000\n",
            "Epoch 15/100\n",
            "800/800 [==============================] - 2s 2ms/step - loss: 3310143488.0000 - mean_squared_error: 3310143488.0000 - val_loss: 3324828416.0000 - val_mean_squared_error: 3324828416.0000\n",
            "Epoch 16/100\n",
            "800/800 [==============================] - 2s 2ms/step - loss: 3309346048.0000 - mean_squared_error: 3309346048.0000 - val_loss: 3333108992.0000 - val_mean_squared_error: 3333108992.0000\n",
            "Epoch 17/100\n",
            "800/800 [==============================] - 2s 2ms/step - loss: 3307743744.0000 - mean_squared_error: 3307743744.0000 - val_loss: 3325438208.0000 - val_mean_squared_error: 3325438208.0000\n",
            "Epoch 18/100\n",
            "800/800 [==============================] - 2s 2ms/step - loss: 3303418112.0000 - mean_squared_error: 3303418112.0000 - val_loss: 3326788096.0000 - val_mean_squared_error: 3326788096.0000\n",
            "Epoch 19/100\n",
            "800/800 [==============================] - 2s 2ms/step - loss: 3303763456.0000 - mean_squared_error: 3303763456.0000 - val_loss: 3326359296.0000 - val_mean_squared_error: 3326359296.0000\n",
            "Epoch 20/100\n",
            "800/800 [==============================] - 2s 3ms/step - loss: 3304642048.0000 - mean_squared_error: 3304642048.0000 - val_loss: 3328498176.0000 - val_mean_squared_error: 3328498176.0000\n",
            "Epoch 21/100\n",
            "800/800 [==============================] - 2s 2ms/step - loss: 3302044160.0000 - mean_squared_error: 3302044160.0000 - val_loss: 3330919680.0000 - val_mean_squared_error: 3330919680.0000\n",
            "Epoch 22/100\n",
            "800/800 [==============================] - 2s 2ms/step - loss: 3305522944.0000 - mean_squared_error: 3305522944.0000 - val_loss: 3346663936.0000 - val_mean_squared_error: 3346663936.0000\n",
            "Epoch 23/100\n",
            "800/800 [==============================] - 2s 2ms/step - loss: 3302238720.0000 - mean_squared_error: 3302238720.0000 - val_loss: 3317667840.0000 - val_mean_squared_error: 3317667840.0000\n",
            "Epoch 24/100\n",
            "800/800 [==============================] - 2s 2ms/step - loss: 3303183360.0000 - mean_squared_error: 3303183360.0000 - val_loss: 3320706560.0000 - val_mean_squared_error: 3320706560.0000\n",
            "Epoch 25/100\n",
            "800/800 [==============================] - 2s 2ms/step - loss: 3300861184.0000 - mean_squared_error: 3300861440.0000 - val_loss: 3331831040.0000 - val_mean_squared_error: 3331831040.0000\n",
            "Epoch 26/100\n",
            "800/800 [==============================] - 2s 2ms/step - loss: 3299014656.0000 - mean_squared_error: 3299014912.0000 - val_loss: 3331334400.0000 - val_mean_squared_error: 3331334400.0000\n",
            "Epoch 27/100\n",
            "800/800 [==============================] - 2s 2ms/step - loss: 3302705664.0000 - mean_squared_error: 3302705664.0000 - val_loss: 3330855936.0000 - val_mean_squared_error: 3330855936.0000\n",
            "Epoch 28/100\n",
            "800/800 [==============================] - 2s 2ms/step - loss: 3302055168.0000 - mean_squared_error: 3302055168.0000 - val_loss: 3319406080.0000 - val_mean_squared_error: 3319406080.0000\n",
            "Epoch 29/100\n",
            "800/800 [==============================] - 2s 2ms/step - loss: 3299685632.0000 - mean_squared_error: 3299685632.0000 - val_loss: 3324717056.0000 - val_mean_squared_error: 3324716800.0000\n",
            "Epoch 30/100\n",
            "800/800 [==============================] - 2s 2ms/step - loss: 3302749184.0000 - mean_squared_error: 3302749184.0000 - val_loss: 3334373632.0000 - val_mean_squared_error: 3334373632.0000\n",
            "Epoch 31/100\n",
            "800/800 [==============================] - 2s 2ms/step - loss: 3296118016.0000 - mean_squared_error: 3296118016.0000 - val_loss: 3354568448.0000 - val_mean_squared_error: 3354568448.0000\n",
            "Epoch 32/100\n",
            "800/800 [==============================] - 2s 2ms/step - loss: 3296058368.0000 - mean_squared_error: 3296058368.0000 - val_loss: 3332584192.0000 - val_mean_squared_error: 3332583936.0000\n",
            "Epoch 33/100\n",
            "800/800 [==============================] - 2s 2ms/step - loss: 3300750848.0000 - mean_squared_error: 3300750848.0000 - val_loss: 3341410304.0000 - val_mean_squared_error: 3341410304.0000\n",
            "Epoch 34/100\n",
            "800/800 [==============================] - 2s 2ms/step - loss: 3299346688.0000 - mean_squared_error: 3299346688.0000 - val_loss: 3325907200.0000 - val_mean_squared_error: 3325907200.0000\n",
            "Epoch 35/100\n",
            "800/800 [==============================] - 2s 2ms/step - loss: 3302447872.0000 - mean_squared_error: 3302447872.0000 - val_loss: 3322514688.0000 - val_mean_squared_error: 3322514688.0000\n",
            "Epoch 36/100\n",
            "800/800 [==============================] - 2s 2ms/step - loss: 3294753024.0000 - mean_squared_error: 3294753024.0000 - val_loss: 3337869056.0000 - val_mean_squared_error: 3337869056.0000\n",
            "Epoch 37/100\n",
            "800/800 [==============================] - 2s 2ms/step - loss: 3303088640.0000 - mean_squared_error: 3303088640.0000 - val_loss: 3333214208.0000 - val_mean_squared_error: 3333214208.0000\n",
            "Epoch 38/100\n",
            "800/800 [==============================] - 3s 3ms/step - loss: 3296097280.0000 - mean_squared_error: 3296097280.0000 - val_loss: 3337432832.0000 - val_mean_squared_error: 3337432832.0000\n",
            "Epoch 39/100\n",
            "800/800 [==============================] - 2s 3ms/step - loss: 3300356352.0000 - mean_squared_error: 3300356352.0000 - val_loss: 3335979776.0000 - val_mean_squared_error: 3335979776.0000\n",
            "Epoch 40/100\n",
            "800/800 [==============================] - 2s 2ms/step - loss: 3296108800.0000 - mean_squared_error: 3296108800.0000 - val_loss: 3315904512.0000 - val_mean_squared_error: 3315904512.0000\n",
            "Epoch 41/100\n",
            "800/800 [==============================] - 2s 2ms/step - loss: 3292093696.0000 - mean_squared_error: 3292093696.0000 - val_loss: 3335545600.0000 - val_mean_squared_error: 3335545600.0000\n",
            "Epoch 42/100\n",
            "800/800 [==============================] - 2s 2ms/step - loss: 3296181504.0000 - mean_squared_error: 3296181504.0000 - val_loss: 3310261248.0000 - val_mean_squared_error: 3310261248.0000\n",
            "Epoch 43/100\n",
            "800/800 [==============================] - 2s 2ms/step - loss: 3295662848.0000 - mean_squared_error: 3295662848.0000 - val_loss: 3333378560.0000 - val_mean_squared_error: 3333378304.0000\n",
            "Epoch 44/100\n",
            "800/800 [==============================] - 2s 2ms/step - loss: 3297900800.0000 - mean_squared_error: 3297900800.0000 - val_loss: 3317883904.0000 - val_mean_squared_error: 3317883904.0000\n",
            "Epoch 45/100\n",
            "800/800 [==============================] - 2s 2ms/step - loss: 3298743808.0000 - mean_squared_error: 3298743808.0000 - val_loss: 3325971200.0000 - val_mean_squared_error: 3325971200.0000\n",
            "Epoch 46/100\n",
            "800/800 [==============================] - 2s 2ms/step - loss: 3296016128.0000 - mean_squared_error: 3296016128.0000 - val_loss: 3354433024.0000 - val_mean_squared_error: 3354433024.0000\n",
            "Epoch 47/100\n",
            "800/800 [==============================] - 2s 2ms/step - loss: 3297205760.0000 - mean_squared_error: 3297205760.0000 - val_loss: 3328375040.0000 - val_mean_squared_error: 3328375040.0000\n",
            "Epoch 48/100\n",
            "800/800 [==============================] - 2s 2ms/step - loss: 3291271936.0000 - mean_squared_error: 3291271936.0000 - val_loss: 3323653120.0000 - val_mean_squared_error: 3323653120.0000\n",
            "Epoch 49/100\n",
            "800/800 [==============================] - 2s 2ms/step - loss: 3289164032.0000 - mean_squared_error: 3289164032.0000 - val_loss: 3345946112.0000 - val_mean_squared_error: 3345946112.0000\n",
            "Epoch 50/100\n",
            "800/800 [==============================] - 2s 2ms/step - loss: 3288397568.0000 - mean_squared_error: 3288397568.0000 - val_loss: 3393357824.0000 - val_mean_squared_error: 3393357824.0000\n",
            "Epoch 51/100\n",
            "800/800 [==============================] - 2s 3ms/step - loss: 3294147072.0000 - mean_squared_error: 3294147328.0000 - val_loss: 3325520128.0000 - val_mean_squared_error: 3325520128.0000\n",
            "Epoch 52/100\n",
            "800/800 [==============================] - 3s 4ms/step - loss: 3293319424.0000 - mean_squared_error: 3293319424.0000 - val_loss: 3328028416.0000 - val_mean_squared_error: 3328028416.0000\n",
            "Epoch 53/100\n",
            "800/800 [==============================] - 2s 2ms/step - loss: 3297080832.0000 - mean_squared_error: 3297080832.0000 - val_loss: 3362038528.0000 - val_mean_squared_error: 3362038528.0000\n",
            "Epoch 54/100\n",
            "800/800 [==============================] - 2s 2ms/step - loss: 3292104192.0000 - mean_squared_error: 3292104192.0000 - val_loss: 3318284544.0000 - val_mean_squared_error: 3318284544.0000\n",
            "Epoch 55/100\n",
            "800/800 [==============================] - 2s 2ms/step - loss: 3289026048.0000 - mean_squared_error: 3289026048.0000 - val_loss: 3327386624.0000 - val_mean_squared_error: 3327386624.0000\n",
            "Epoch 56/100\n",
            "800/800 [==============================] - 2s 2ms/step - loss: 3291447808.0000 - mean_squared_error: 3291447808.0000 - val_loss: 3325988096.0000 - val_mean_squared_error: 3325988096.0000\n",
            "Epoch 57/100\n",
            "800/800 [==============================] - 2s 2ms/step - loss: 3289003776.0000 - mean_squared_error: 3289003776.0000 - val_loss: 3322161664.0000 - val_mean_squared_error: 3322161664.0000\n",
            "Epoch 58/100\n",
            "800/800 [==============================] - 2s 2ms/step - loss: 3291102464.0000 - mean_squared_error: 3291102464.0000 - val_loss: 3326092032.0000 - val_mean_squared_error: 3326092032.0000\n",
            "Epoch 59/100\n",
            "800/800 [==============================] - 2s 3ms/step - loss: 3294151680.0000 - mean_squared_error: 3294151936.0000 - val_loss: 3331120384.0000 - val_mean_squared_error: 3331120384.0000\n",
            "Epoch 60/100\n",
            "800/800 [==============================] - 2s 2ms/step - loss: 3294413824.0000 - mean_squared_error: 3294413824.0000 - val_loss: 3337055744.0000 - val_mean_squared_error: 3337055744.0000\n",
            "Epoch 61/100\n",
            "800/800 [==============================] - 2s 2ms/step - loss: 3292934144.0000 - mean_squared_error: 3292934144.0000 - val_loss: 3331490560.0000 - val_mean_squared_error: 3331490560.0000\n",
            "Epoch 62/100\n",
            "800/800 [==============================] - 2s 2ms/step - loss: 3292714752.0000 - mean_squared_error: 3292714752.0000 - val_loss: 3341523456.0000 - val_mean_squared_error: 3341523200.0000\n"
          ]
        }
      ]
    },
    {
      "cell_type": "code",
      "source": [
        "## Predicted Values\n",
        "\n",
        "y_pred=regressor.predict(X_test)"
      ],
      "metadata": {
        "id": "ezAadkiDyWAT"
      },
      "execution_count": 40,
      "outputs": []
    },
    {
      "cell_type": "code",
      "source": [
        "## Calculating Accuracy\n",
        "\n",
        "from sklearn.metrics import r2_score\n",
        "\n",
        "print(r2_score(y_test,y_pred))"
      ],
      "metadata": {
        "colab": {
          "base_uri": "https://localhost:8080/"
        },
        "id": "NLrURTsH1uPO",
        "outputId": "9e815e40-27ae-45e1-ffe1-80abf45f1afe"
      },
      "execution_count": 44,
      "outputs": [
        {
          "output_type": "stream",
          "name": "stdout",
          "text": [
            "-0.01428264618147379\n"
          ]
        }
      ]
    },
    {
      "cell_type": "code",
      "source": [
        ""
      ],
      "metadata": {
        "id": "Y849OUbV2Cg9"
      },
      "execution_count": null,
      "outputs": []
    }
  ]
}